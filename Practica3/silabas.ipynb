{
 "cells": [
  {
   "cell_type": "code",
   "execution_count": 480,
   "metadata": {},
   "outputs": [],
   "source": [
    "def getrecord(arr, record):\n",
    "    newLen = len(arr) - len(record)\n",
    "    return arr[newLen:-1]\n",
    "\n",
    "def veriConsonant(letter):\n",
    "    consonants = 'bcdfghjklmnñpqrstvwxyzBCDFGHJKLMNÑPQRSTVWXYZ'\n",
    "    if letter in consonants:\n",
    "        return True\n",
    "    return False\n",
    "\n",
    "def veriVocals(letter):\n",
    "    vocals = 'aeiouAEIOU'\t\n",
    "    vocalsTilde = 'áéíóúÁÉÍÓÚ'\n",
    "    if letter in vocals:\n",
    "        return 'sin'\n",
    "    elif letter in vocalsTilde:\n",
    "        return 'con'\n",
    "    return False\n",
    "\n",
    "def defineLetters(word):\n",
    "    types = ''\n",
    "    for letter in word:\n",
    "        if veriConsonant(letter):\n",
    "            types += 'C'\n",
    "        else:\n",
    "            types += 'V'\n",
    "    return types\n",
    "\n",
    "def typeVocal(word):\n",
    "    vocals = ''\n",
    "    fuertes = 'aeoáéó'\n",
    "    debiles = 'iuíú'\n",
    "    for letter in word:\n",
    "        if letter in fuertes:\n",
    "            vocals += 'F'\n",
    "        elif letter in debiles:\n",
    "            vocals += 'D'\n",
    "        else:\n",
    "            #cosonante \n",
    "            vocals += 'C'\n",
    "    return vocals\n",
    "                \n",
    "def wordNoAccent(word):\n",
    "    return word.lower().replace('á','a').replace('é','e').replace('í','i').replace('ó','o').replace('ú','u'). replace('ü','u')\n",
    "\n",
    "def sameV(word):\n",
    "    noAcc = wordNoAccent(word)\n",
    "    if noAcc[0] != noAcc[1]:\n",
    "        return False\n",
    "    else:\n",
    "        return True\n",
    "    \n",
    "    \n",
    "def identify(word):\n",
    "    types = []\n",
    "    consonants = 'bcdfghjklmnñpqrstvwxyzBCDFGHJKLMNÑPQRSTVWXYZ'\n",
    "    fuertes = 'aeoAEO'\n",
    "    debiles = 'iuIU'\n",
    "    fuertesA = 'ÁÉÓáéó'\t\n",
    "    debilesA = 'íúÍÚ'\n",
    "    for letter in word:\n",
    "        if letter in consonants:\n",
    "            types.append('C')\n",
    "        elif letter in fuertes:\n",
    "            types.append('F')\n",
    "        elif letter in fuertesA:\n",
    "            types.append('Fa')\n",
    "        elif letter in debiles:\n",
    "            types.append('D')\n",
    "        elif letter in debilesA:\n",
    "            types.append('Da')\n",
    "    return types\n",
    "\n",
    "def regla1(word, syllables):\n",
    "    pos = 0\n",
    "    if veriConsonant(word[0]):\n",
    "        for i, l in enumerate(word):\n",
    "            if veriVocals(l) == 'sin' or veriVocals(l) == 'con':\n",
    "                syllables.append(word[0:i+1])\n",
    "                pos = i+1\n",
    "                break\n",
    "    return syllables, pos\n"
   ]
  },
  {
   "cell_type": "code",
   "execution_count": 481,
   "metadata": {},
   "outputs": [],
   "source": [
    "def veriDiptongo(v1, v2):\n",
    "    cadena = v1 + v2\n",
    "    ty = identify(cadena)\n",
    "    ty= ty[0]+ ty[1]\n",
    "    print(ty)\n",
    "    if ty == 'FD'  or ty == 'DF' or ty == 'DD' or ty == 'DFa':\n",
    "        return 'juntas'\n",
    "    else:\n",
    "        return 'separadas'"
   ]
  },
  {
   "cell_type": "markdown",
   "metadata": {},
   "source": [
    "https://www.comodicequedijo.com/reglas-acentuacion/silabas-y-reglas-separacion/"
   ]
  },
  {
   "cell_type": "code",
   "execution_count": 482,
   "metadata": {},
   "outputs": [],
   "source": [
    "def silabas(word):\n",
    "    syllables = []\n",
    "    types = defineLetters(word)\n",
    "    explicit = identify(word)\n",
    "    #syllables, ini = regla1(word, syllables)\n",
    "    ini = 0\n",
    "    newTypes = types[ini:len(word)+1]\n",
    "    recordW = word[ini:len(word)+1]\n",
    "    i = ini\n",
    "    while i != len(word):\n",
    "        newTypes = types[i:len(word)+1]\n",
    "        print(i, newTypes, syllables) \n",
    "        recordW = word[i:len(word)+1]\n",
    "        explicit = explicit[i:len(word)+1]\n",
    "        if 'VCV' in newTypes:\n",
    "            if newTypes.index('VCV') == 0 :\n",
    "                print('entro a VCV')\n",
    "                if (recordW[1] not in 'qg' and recordW[2] not in 'uü'):\n",
    "                    syllables.append(recordW[0])\n",
    "                    syllables.append(recordW[1] + recordW[2])\n",
    "                    i += 3\n",
    "                    continue\n",
    "                else: \n",
    "                    syllables.append(recordW[0])\n",
    "                    i += 1\n",
    "                    continue\n",
    "        if 'V' in newTypes:\n",
    "            if newTypes.index('V') == 0:\n",
    "                print('entro a V')\n",
    "                if syllables != [] and veriVocals(syllables[-1][-1]) != False:\n",
    "                    print('entro a V 1', veriDiptongo(syllables[-1][-1], recordW[0]))\n",
    "                    if veriDiptongo(syllables[-1][-1], recordW[0]) == 'juntas':\n",
    "                        syllables[-1] += (recordW[0])\n",
    "                        i+=1\n",
    "                        continue\n",
    "                else: \n",
    "                    syllables.append(recordW[0])  \n",
    "                    i+=1\n",
    "                    continue\n",
    "        #triptongo\n",
    "        if 'CVVV' in newTypes:\n",
    "            if types.index('CVVV') == 0:\n",
    "                print('entro a CVVV')\n",
    "                #fuertes = abiertas\n",
    "                # U insonora\n",
    "                if (recordW[0] in 'gq' and recordW[1] in 'uü' and recordW[2] in 'ei'):\n",
    "                    if veriDiptongo(recordW[2], recordW[3]) == 'juntas':\n",
    "                        syllables.append(recordW[0]+recordW[1]+recordW[2]+recordW[3])\n",
    "                        i += 4\n",
    "                        continue\n",
    "                    else:\n",
    "                        syllables.append(recordW[0]+recordW[1]+recordW[2]+recordW[3])\n",
    "                        i += 4\n",
    "                        continue\n",
    "                else:\n",
    "                    if (explicit[1] == 'D' and explicit[2] == 'F' and explicit[3] == 'D') or (explicit[1] == 'D' and explicit[2] == 'Fa' and explicit[3] == 'D'):\n",
    "                        syllables.append(recordW[0]+recordW[1]+recordW[2]+recordW[3])\n",
    "                        i += 4\n",
    "                        continue\n",
    "                    \n",
    "        if 'CVV' in newTypes:\n",
    "            print('entro CVV 1')\n",
    "            if newTypes.index('CVV') == 0:\n",
    "                print('entro CVV')\n",
    "                print(explicit)\n",
    "                #diptongo excepcion\n",
    "                                \n",
    "                if (recordW[0] in 'gq' and recordW[1] in 'uü' and recordW[2] in 'ei'):\n",
    "                    print('entro aquiiii 2')\n",
    "                    syllables.append(recordW[0]+recordW[1]+recordW[2])\n",
    "                    i += 3\n",
    "                    continue\n",
    "                #hiatos \n",
    "                if (explicit[1] == 'F' and explicit[2] == 'Da') or (explicit[1] == 'Da' and explicit[2] == 'F') or ( explicit[1] == 'F' and explicit[2] == 'F'):\n",
    "                    #C F Da\n",
    "                    print('entro al tercero', explicit)\n",
    "                    syllables.append(recordW[0]+recordW[1])\n",
    "                    syllables.append(recordW[2])\n",
    "                    i += 3\n",
    "                    continue\n",
    "                #diptongo\n",
    "                if (explicit[1] == 'D' and explicit[2] == 'D'):\n",
    "                    print('entro al cuarto', explicit)\n",
    "                    syllables.append(recordW[0] + recordW[1] + recordW[2])\n",
    "                    i += 3\n",
    "                    continue\n",
    "                if (explicit[1] == 'D' and explicit[2] == 'F'):\n",
    "                    print('entro al quinto', explicit)\n",
    "                    syllables.append(recordW[0] + recordW[1] + recordW[2])\n",
    "                    i += 3\n",
    "                    continue\n",
    "        if 'CV' in newTypes:\n",
    "            if newTypes.index('CV') == 0:\n",
    "                print('entro a CV')\n",
    "                syllables.append(recordW[0] + recordW[1])\n",
    "                i += 2\n",
    "                continue\n",
    "        if 'CCV' in newTypes:\n",
    "            if newTypes.index('CCV') == 0:\n",
    "                print('entro a CCV')\n",
    "                indiceI = newTypes.index('CCV')\n",
    "                if (recordW[0:2]) in ['pr','br','dr','cr','fr', 'gr','kr','tr','fl', 'pl','gl','kl','cl','bl']:\n",
    "                    print('entro a CCV 1')\n",
    "                    syllables.append(recordW[indiceI] + recordW[indiceI+1] + recordW[indiceI+2] )\n",
    "                    i+=3 \n",
    "                    continue\n",
    "                \n",
    "                print(recordW[0:2])                   \n",
    "                if recordW[0:2] in ['ch','rr', 'll']:\n",
    "                    print('entro a CCV 2')\n",
    "                    if syllables != [] and veriConsonant(syllables[-1][-1]) != False:\n",
    "                        syllables[-1] += recordW[0]\n",
    "                        syllables.append(recordW[1] + recordW[2])\n",
    "                        i += 3\n",
    "                        continue\n",
    "                    else:\n",
    "                        syllables.append(recordW[0] + recordW[1] + recordW[2])\n",
    "                        i += 3\n",
    "                        continue\n",
    "                elif recordW[1:3] in ['gu','gü', 'qu']: \n",
    "                    print('entro a CCV 4')\n",
    "                    if syllables != [] and veriConsonant(syllables[-1][-1]) == False:\n",
    "                        syllables[-1] += recordW[0]\n",
    "                        syllables.append(recordW[1] + recordW[2] + recordW[3])\n",
    "                        i += 4\n",
    "                else:\n",
    "                    print('entro a CCV 3')\n",
    "                    if syllables != []:\n",
    "                        syllables[-1] += (recordW[0])\n",
    "                        syllables.append(recordW[1]+recordW[2]) \n",
    "                        i+=3      \n",
    "                        continue\n",
    "        if 'CCCV' in newTypes:\n",
    "            if syllables != []:\n",
    "                if newTypes.index('CCCV') == 0 and veriVocals(syllables[-1][-1]) != False:\n",
    "                    print('entro a CCCV')\n",
    "                    if recordW[2] in ['l', 'r']:\n",
    "                        syllables[-1] += (recordW[0])\n",
    "                        syllables.append(recordW[1] + recordW[2] + recordW[3])\n",
    "                        i += 4\n",
    "                        continue\n",
    "                    else:\n",
    "                        syllables[-1] += (recordW[0] + recordW[1])\n",
    "                        syllables.append(recordW[2] + recordW[3])\n",
    "                        i += 4\n",
    "                        continue\n",
    "        if 'CCCCV' in newTypes:\n",
    "            if syllables != []:\n",
    "                if newTypes.index('CCCCV') == 0 and veriVocals(syllables[-1][-1]) != False:\n",
    "                    print('entro a CCCCV')\n",
    "                    syllables[-1] += (recordW[0])\n",
    "                    syllables.append(recordW[1] + recordW[2] + recordW[3] + recordW[4])\n",
    "                    i += 5\n",
    "                    continue\n",
    "        if 'C' in newTypes and not('V' in newTypes):\n",
    "            if syllables != []:\n",
    "                syllables[-1] += recordW\n",
    "                i += len(newTypes)\n",
    "                continue\n",
    "    return syllables"
   ]
  },
  {
   "cell_type": "code",
   "execution_count": 483,
   "metadata": {},
   "outputs": [
    {
     "name": "stdout",
     "output_type": "stream",
     "text": [
      "0 VCCVC []\n",
      "entro a V\n",
      "1 CCVC ['á']\n",
      "entro a CCV\n",
      "rb\n",
      "entro a CCV 3\n",
      "4 C ['ár', 'bo']\n"
     ]
    },
    {
     "data": {
      "text/plain": [
       "['ár', 'bol']"
      ]
     },
     "execution_count": 483,
     "metadata": {},
     "output_type": "execute_result"
    }
   ],
   "source": [
    "silabas('árbol')"
   ]
  },
  {
   "cell_type": "code",
   "execution_count": 484,
   "metadata": {},
   "outputs": [
    {
     "name": "stdout",
     "output_type": "stream",
     "text": [
      "0 CVCCVVC []\n",
      "entro CVV 1\n",
      "entro a CV\n",
      "2 CCVVC ['ca']\n",
      "entro CVV 1\n",
      "entro a CCV\n",
      "nc\n",
      "entro a CCV 3\n",
      "5 VC ['can', 'ci']\n",
      "entro a V\n",
      "DFa\n",
      "entro a V 1 juntas\n",
      "DFa\n",
      "6 C ['can', 'ció']\n"
     ]
    },
    {
     "data": {
      "text/plain": [
       "['can', 'ción']"
      ]
     },
     "execution_count": 484,
     "metadata": {},
     "output_type": "execute_result"
    }
   ],
   "source": [
    "silabas('canción')"
   ]
  },
  {
   "cell_type": "code",
   "execution_count": 485,
   "metadata": {},
   "outputs": [
    {
     "name": "stdout",
     "output_type": "stream",
     "text": [
      "0 CVVCCV []\n",
      "entro CVV 1\n",
      "entro CVV\n",
      "['C', 'D', 'F', 'C', 'C', 'F']\n",
      "entro aquiiii 2\n",
      "3 CCV ['gue']\n",
      "entro a CCV\n",
      "rr\n",
      "entro a CCV 2\n"
     ]
    },
    {
     "data": {
      "text/plain": [
       "['gue', 'rra']"
      ]
     },
     "execution_count": 485,
     "metadata": {},
     "output_type": "execute_result"
    }
   ],
   "source": [
    "silabas('guerra')"
   ]
  },
  {
   "cell_type": "code",
   "execution_count": 486,
   "metadata": {},
   "outputs": [
    {
     "name": "stdout",
     "output_type": "stream",
     "text": [
      "0 CVVVCVC []\n",
      "entro a CVVV\n",
      "DF\n",
      "4 CVC ['quie']\n",
      "entro a CV\n",
      "6 C ['quie', 're']\n"
     ]
    },
    {
     "data": {
      "text/plain": [
       "['quie', 'res']"
      ]
     },
     "execution_count": 486,
     "metadata": {},
     "output_type": "execute_result"
    }
   ],
   "source": [
    "silabas('quieres')"
   ]
  },
  {
   "cell_type": "code",
   "execution_count": 487,
   "metadata": {},
   "outputs": [
    {
     "name": "stdout",
     "output_type": "stream",
     "text": [
      "0 CVCVV []\n",
      "entro CVV 1\n",
      "entro a CV\n",
      "2 CVV ['ca']\n",
      "entro CVV 1\n",
      "entro CVV\n",
      "['C', 'D', 'D']\n",
      "entro aquiiii 2\n"
     ]
    },
    {
     "data": {
      "text/plain": [
       "['ca', 'qui']"
      ]
     },
     "execution_count": 487,
     "metadata": {},
     "output_type": "execute_result"
    }
   ],
   "source": [
    "silabas('caqui')"
   ]
  },
  {
   "cell_type": "code",
   "execution_count": 488,
   "metadata": {},
   "outputs": [
    {
     "name": "stdout",
     "output_type": "stream",
     "text": [
      "0 VCVVC []\n",
      "entro a VCV\n",
      "1 CVVC ['e']\n",
      "entro CVV 1\n",
      "entro CVV\n",
      "['C', 'D', 'D', 'C']\n",
      "entro aquiiii 2\n",
      "4 C ['e', 'qui']\n"
     ]
    },
    {
     "data": {
      "text/plain": [
       "['e', 'quis']"
      ]
     },
     "execution_count": 488,
     "metadata": {},
     "output_type": "execute_result"
    }
   ],
   "source": [
    "silabas('equis')"
   ]
  },
  {
   "cell_type": "code",
   "execution_count": 489,
   "metadata": {},
   "outputs": [
    {
     "name": "stdout",
     "output_type": "stream",
     "text": [
      "0 CVCCCVCVC []\n",
      "entro a CV\n",
      "2 CCCVCVC ['co']\n",
      "entro a CCCV\n",
      "6 CVC ['cons', 'pi']\n",
      "entro a CV\n",
      "8 C ['cons', 'pi', 'ra']\n"
     ]
    },
    {
     "data": {
      "text/plain": [
       "['cons', 'pi', 'rar']"
      ]
     },
     "execution_count": 489,
     "metadata": {},
     "output_type": "execute_result"
    }
   ],
   "source": [
    "silabas('conspirar')"
   ]
  },
  {
   "cell_type": "code",
   "execution_count": 490,
   "metadata": {},
   "outputs": [
    {
     "name": "stdout",
     "output_type": "stream",
     "text": [
      "0 VCVCVCV []\n",
      "entro a VCV\n",
      "3 CVCV ['a', 'ra']\n",
      "entro a CV\n",
      "5 CV ['a', 'ra', 'be']\n",
      "entro a CV\n"
     ]
    },
    {
     "data": {
      "text/plain": [
       "['a', 'ra', 'be', 'la']"
      ]
     },
     "execution_count": 490,
     "metadata": {},
     "output_type": "execute_result"
    }
   ],
   "source": [
    "silabas('arabela')"
   ]
  },
  {
   "cell_type": "code",
   "execution_count": 491,
   "metadata": {},
   "outputs": [
    {
     "name": "stdout",
     "output_type": "stream",
     "text": [
      "0 CVVC []\n",
      "entro CVV 1\n",
      "entro CVV\n",
      "['C', 'D', 'D', 'C']\n",
      "entro al cuarto ['C', 'D', 'D', 'C']\n",
      "3 C ['lui']\n"
     ]
    },
    {
     "data": {
      "text/plain": [
       "['luis']"
      ]
     },
     "execution_count": 491,
     "metadata": {},
     "output_type": "execute_result"
    }
   ],
   "source": [
    "silabas('luis')\n"
   ]
  },
  {
   "cell_type": "code",
   "execution_count": 492,
   "metadata": {},
   "outputs": [
    {
     "name": "stdout",
     "output_type": "stream",
     "text": [
      "0 VCVC []\n",
      "entro a VCV\n",
      "1 CVC ['a']\n",
      "entro a CV\n",
      "3 C ['a', 'zu']\n"
     ]
    },
    {
     "data": {
      "text/plain": [
       "['a', 'zul']"
      ]
     },
     "execution_count": 492,
     "metadata": {},
     "output_type": "execute_result"
    }
   ],
   "source": [
    "silabas('azul')"
   ]
  },
  {
   "cell_type": "code",
   "execution_count": 493,
   "metadata": {},
   "outputs": [
    {
     "name": "stdout",
     "output_type": "stream",
     "text": [
      "0 CVCVCVC []\n",
      "entro a CV\n",
      "2 CVCVC ['pá']\n",
      "entro a CV\n",
      "4 CVC ['pá', 'ja']\n",
      "entro a CV\n",
      "6 C ['pá', 'ja', 'ro']\n"
     ]
    },
    {
     "data": {
      "text/plain": [
       "['pá', 'ja', 'ros']"
      ]
     },
     "execution_count": 493,
     "metadata": {},
     "output_type": "execute_result"
    }
   ],
   "source": [
    "silabas('pájaros')"
   ]
  },
  {
   "cell_type": "code",
   "execution_count": 494,
   "metadata": {},
   "outputs": [
    {
     "name": "stdout",
     "output_type": "stream",
     "text": [
      "0 CVCCVVCV []\n",
      "entro CVV 1\n",
      "entro a CV\n",
      "2 CCVVCV ['pi']\n",
      "entro CVV 1\n",
      "entro a CCV\n",
      "ng\n",
      "entro a CCV 4\n",
      "6 CV ['pin', 'güi']\n",
      "entro a CV\n"
     ]
    },
    {
     "data": {
      "text/plain": [
       "['pin', 'güi', 'no']"
      ]
     },
     "execution_count": 494,
     "metadata": {},
     "output_type": "execute_result"
    }
   ],
   "source": [
    "silabas('pingüino')"
   ]
  }
 ],
 "metadata": {
  "kernelspec": {
   "display_name": "Python 3",
   "language": "python",
   "name": "python3"
  },
  "language_info": {
   "codemirror_mode": {
    "name": "ipython",
    "version": 3
   },
   "file_extension": ".py",
   "mimetype": "text/x-python",
   "name": "python",
   "nbconvert_exporter": "python",
   "pygments_lexer": "ipython3",
   "version": "3.11.3"
  }
 },
 "nbformat": 4,
 "nbformat_minor": 2
}
