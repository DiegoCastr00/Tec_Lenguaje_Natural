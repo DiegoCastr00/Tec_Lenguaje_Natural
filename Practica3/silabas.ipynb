{
 "cells": [
  {
   "cell_type": "code",
   "execution_count": 546,
   "metadata": {},
   "outputs": [],
   "source": [
    "def getrecord(arr, record):\n",
    "    newLen = len(arr) - len(record)\n",
    "    return arr[newLen:-1]\n",
    "\n",
    "def veriConsonant(letter):\n",
    "    consonants = 'bcdfghjklmnñpqrstvwxyzBCDFGHJKLMNÑPQRSTVWXYZ'\n",
    "    if letter in consonants:\n",
    "        return True\n",
    "    return False\n",
    "\n",
    "def veriVocals(letter):\n",
    "    vocals = 'aeiouAEIOU'\t\n",
    "    vocalsTilde = 'áéíóúÁÉÍÓÚ'\n",
    "    if letter in vocals:\n",
    "        return 'sin'\n",
    "    elif letter in vocalsTilde:\n",
    "        return 'con'\n",
    "    return False\n",
    "\n",
    "def defineLetters(word):\n",
    "    types = ''\n",
    "    for letter in word:\n",
    "        if veriConsonant(letter):\n",
    "            types += 'C'\n",
    "        else:\n",
    "            types += 'V'\n",
    "    return types\n",
    "\n",
    "def typeVocal(word):\n",
    "    vocals = ''\n",
    "    fuertes = 'aeoáéó'\n",
    "    debiles = 'iuíú'\n",
    "    for letter in word:\n",
    "        if letter in fuertes:\n",
    "            vocals += 'F'\n",
    "        elif letter in debiles:\n",
    "            vocals += 'D'\n",
    "        else:\n",
    "            #cosonante \n",
    "            vocals += 'C'\n",
    "    return vocals\n",
    "                \n",
    "def wordNoAccent(word):\n",
    "    return word.lower().replace('á','a').replace('é','e').replace('í','i').replace('ó','o').replace('ú','u'). replace('ü','u')\n",
    "\n",
    "def sameV(word):\n",
    "    noAcc = wordNoAccent(word)\n",
    "    if noAcc[0] != noAcc[1]:\n",
    "        return False\n",
    "    else:\n",
    "        return True\n",
    "    \n",
    "    \n",
    "def identify(word):\n",
    "    types = []\n",
    "    consonants = 'bcdfghjklmnñpqrstvwxyzBCDFGHJKLMNÑPQRSTVWXYZ'\n",
    "    fuertes = 'aeoAEO'\n",
    "    debiles = 'iuIU'\n",
    "    fuertesA = 'ÁÉÓáéó'\t\n",
    "    debilesA = 'íúÍÚ'\n",
    "    for letter in word:\n",
    "        if letter in consonants:\n",
    "            types.append('C')\n",
    "        elif letter in fuertes:\n",
    "            types.append('F')\n",
    "        elif letter in fuertesA:\n",
    "            types.append('Fa')\n",
    "        elif letter in debiles:\n",
    "            types.append('D')\n",
    "        elif letter in debilesA:\n",
    "            types.append('Da')\n",
    "    return types\n",
    "\n",
    "def regla1(word, syllables):\n",
    "    pos = 0\n",
    "    if veriConsonant(word[0]):\n",
    "        for i, l in enumerate(word):\n",
    "            if veriVocals(l) == 'sin' or veriVocals(l) == 'con':\n",
    "                syllables.append(word[0:i+1])\n",
    "                pos = i+1\n",
    "                break\n",
    "    return syllables, pos\n"
   ]
  },
  {
   "cell_type": "code",
   "execution_count": 547,
   "metadata": {},
   "outputs": [],
   "source": [
    "def veriDiptongo(v1, v2):\n",
    "    cadena = v1 + v2\n",
    "    ty = identify(cadena)\n",
    "    ty= ty[0]+ ty[1]\n",
    "    print(ty)\n",
    "    if ty == 'FD'  or ty == 'DF' or ty == 'DD' or ty == 'DFa' or ty == 'FaD':\n",
    "        return 'juntas'\n",
    "    else:\n",
    "        return 'separadas'"
   ]
  },
  {
   "cell_type": "markdown",
   "metadata": {},
   "source": [
    "https://www.comodicequedijo.com/reglas-acentuacion/silabas-y-reglas-separacion/"
   ]
  },
  {
   "cell_type": "code",
   "execution_count": 548,
   "metadata": {},
   "outputs": [],
   "source": [
    "def silabas(word):\n",
    "    syllables = []\n",
    "    types = defineLetters(word)\n",
    "    explicit = identify(word)\n",
    "    #syllables, ini = regla1(word, syllables)\n",
    "    ini = 0\n",
    "    newTypes = types[ini:len(word)+1]\n",
    "    recordW = word[ini:len(word)+1]\n",
    "    i = ini\n",
    "    while i != len(word):\n",
    "        newTypes = types[i:len(word)+1]\n",
    "        print(i, newTypes, syllables) \n",
    "        recordW = word[i:len(word)+1]\n",
    "        explicit = explicit[i:len(word)+1]\n",
    "        if 'VCV' in newTypes:\n",
    "            if newTypes.index('VCV') == 0 :\n",
    "                print('entro a VCV')\n",
    "                if (recordW[1] not in 'qg' and recordW[2] not in 'uü'):\n",
    "                    syllables.append(recordW[0])\n",
    "                    syllables.append(recordW[1] + recordW[2])\n",
    "                    i += 3\n",
    "                    continue\n",
    "                else: \n",
    "                    syllables.append(recordW[0])\n",
    "                    i += 1\n",
    "                    continue\n",
    "        if 'V' in newTypes:\n",
    "            if newTypes.index('V') == 0:\n",
    "                print('entro a V')\n",
    "                if syllables != [] and veriVocals(syllables[-1][-1]) != False:\n",
    "                    print('entro a V 1', veriDiptongo(syllables[-1][-1], recordW[0]))\n",
    "                    if veriDiptongo(syllables[-1][-1], recordW[0]) == 'juntas':\n",
    "                        syllables[-1] += (recordW[0])\n",
    "                        i+=1\n",
    "                        continue\n",
    "                else: \n",
    "                    syllables.append(recordW[0])  \n",
    "                    i+=1\n",
    "                    continue\n",
    "        #triptongo\n",
    "        if 'CVVV' in newTypes:\n",
    "            if types.index('CVVV') == 0:\n",
    "                print('entro a CVVV')\n",
    "                #fuertes = abiertas\n",
    "                # U insonora\n",
    "                if (recordW[0] in 'gq' and recordW[1] in 'uü' and recordW[2] in 'ei'):\n",
    "                    if veriDiptongo(recordW[2], recordW[3]) == 'juntas':\n",
    "                        syllables.append(recordW[0]+recordW[1]+recordW[2]+recordW[3])\n",
    "                        i += 4\n",
    "                        continue\n",
    "                    else:\n",
    "                        syllables.append(recordW[0]+recordW[1]+recordW[2]+recordW[3])\n",
    "                        i += 4\n",
    "                        continue\n",
    "                else:\n",
    "                    if (explicit[1] == 'D' and explicit[2] == 'F' and explicit[3] == 'D') or (explicit[1] == 'D' and explicit[2] == 'Fa' and explicit[3] == 'D'):\n",
    "                        syllables.append(recordW[0]+recordW[1]+recordW[2]+recordW[3])\n",
    "                        i += 4\n",
    "                        continue\n",
    "                    \n",
    "        if 'CVV' in newTypes:\n",
    "            print('entro CVV 1')\n",
    "            if newTypes.index('CVV') == 0:\n",
    "                print('entro CVV')\n",
    "                print(explicit)\n",
    "                #diptongo excepcion\n",
    "                                \n",
    "                if (recordW[0] in 'gq' and recordW[1] in 'uü' and recordW[2] in 'ei'):\n",
    "                    print('entro aquiiii 2')\n",
    "                    syllables.append(recordW[0]+recordW[1]+recordW[2])\n",
    "                    i += 3\n",
    "                    continue\n",
    "                #hiatos \n",
    "                if (explicit[1] == 'F' and explicit[2] == 'Da') or (explicit[1] == 'Da' and explicit[2] == 'F') or ( explicit[1] == 'F' and explicit[2] == 'F'):\n",
    "                    #C F Da\n",
    "                    print('entro al tercero', explicit)\n",
    "                    syllables.append(recordW[0]+recordW[1])\n",
    "                    syllables.append(recordW[2])\n",
    "                    i += 3\n",
    "                    continue\n",
    "                #diptongo\n",
    "                if (explicit[1] == 'D' and explicit[2] == 'D'):\n",
    "                    print('entro al cuarto', explicit)\n",
    "                    syllables.append(recordW[0] + recordW[1] + recordW[2])\n",
    "                    i += 3\n",
    "                    continue\n",
    "                if (explicit[1] == 'D' and explicit[2] == 'F'):\n",
    "                    print('entro al quinto', explicit)\n",
    "                    syllables.append(recordW[0] + recordW[1] + recordW[2])\n",
    "                    i += 3\n",
    "                    continue\n",
    "        if 'CV' in newTypes:\n",
    "            if newTypes.index('CV') == 0:\n",
    "                print('entro a CV')\n",
    "                syllables.append(recordW[0] + recordW[1])\n",
    "                i += 2\n",
    "                continue\n",
    "        if 'CCV' in newTypes:\n",
    "            if newTypes.index('CCV') == 0:\n",
    "                print('entro a CCV')\n",
    "                indiceI = newTypes.index('CCV')\n",
    "                if (recordW[0:2]) in ['pr','br','dr','cr','fr', 'gr','kr','tr','fl', 'pl','gl','kl','cl','bl']:\n",
    "                    print('entro a CCV 1')\n",
    "                    syllables.append(recordW[indiceI] + recordW[indiceI+1] + recordW[indiceI+2] )\n",
    "                    i+=3 \n",
    "                    continue\n",
    "                \n",
    "                print(recordW[0:2])                   \n",
    "                if recordW[0:2] in ['ch','rr', 'll']:\n",
    "                    print('entro a CCV 2')\n",
    "                    if syllables != [] and veriConsonant(syllables[-1][-1]) != False:\n",
    "                        syllables[-1] += recordW[0]\n",
    "                        syllables.append(recordW[1] + recordW[2])\n",
    "                        i += 3\n",
    "                        continue\n",
    "                    else:\n",
    "                        syllables.append(recordW[0] + recordW[1] + recordW[2])\n",
    "                        i += 3\n",
    "                        continue\n",
    "                elif recordW[1:3] in ['gu','gü', 'qu']: \n",
    "                    print('entro a CCV 4')\n",
    "                    if syllables != [] and veriConsonant(syllables[-1][-1]) == False:\n",
    "                        syllables[-1] += recordW[0]\n",
    "                        syllables.append(recordW[1] + recordW[2] + recordW[3])\n",
    "                        i += 4\n",
    "                else:\n",
    "                    print('entro a CCV 3')\n",
    "                    if syllables != []:\n",
    "                        syllables[-1] += (recordW[0])\n",
    "                        syllables.append(recordW[1]+recordW[2]) \n",
    "                        i+=3      \n",
    "                        continue\n",
    "        if 'CCCV' in newTypes:\n",
    "            if syllables != []:\n",
    "                if newTypes.index('CCCV') == 0 and veriVocals(syllables[-1][-1]) != False:\n",
    "                    print('entro a CCCV')\n",
    "                    if recordW[2] in ['l', 'r']:\n",
    "                        syllables[-1] += (recordW[0])\n",
    "                        syllables.append(recordW[1] + recordW[2] + recordW[3])\n",
    "                        i += 4\n",
    "                        continue\n",
    "                    else:\n",
    "                        syllables[-1] += (recordW[0] + recordW[1])\n",
    "                        syllables.append(recordW[2] + recordW[3])\n",
    "                        i += 4\n",
    "                        continue\n",
    "        if 'CCCCV' in newTypes:\n",
    "            if syllables != []:\n",
    "                if newTypes.index('CCCCV') == 0 and veriVocals(syllables[-1][-1]) != False:\n",
    "                    print('entro a CCCCV')\n",
    "                    syllables[-1] += (recordW[0])\n",
    "                    syllables.append(recordW[1] + recordW[2] + recordW[3] + recordW[4])\n",
    "                    i += 5\n",
    "                    continue\n",
    "        if 'C' in newTypes and not('V' in newTypes):\n",
    "            if syllables != []:\n",
    "                syllables[-1] += recordW\n",
    "                i += len(newTypes)\n",
    "                continue\n",
    "    return syllables"
   ]
  },
  {
   "cell_type": "code",
   "execution_count": 549,
   "metadata": {},
   "outputs": [
    {
     "name": "stdout",
     "output_type": "stream",
     "text": [
      "0 VCCVC []\n",
      "entro a V\n",
      "1 CCVC ['á']\n",
      "entro a CCV\n",
      "rb\n",
      "entro a CCV 3\n",
      "4 C ['ár', 'bo']\n"
     ]
    },
    {
     "data": {
      "text/plain": [
       "['ár', 'bol']"
      ]
     },
     "execution_count": 549,
     "metadata": {},
     "output_type": "execute_result"
    }
   ],
   "source": [
    "silabas('árbol')"
   ]
  },
  {
   "cell_type": "code",
   "execution_count": 550,
   "metadata": {},
   "outputs": [
    {
     "name": "stdout",
     "output_type": "stream",
     "text": [
      "0 CVCCVVC []\n",
      "entro CVV 1\n",
      "entro a CV\n",
      "2 CCVVC ['ca']\n",
      "entro CVV 1\n",
      "entro a CCV\n",
      "nc\n",
      "entro a CCV 3\n",
      "5 VC ['can', 'ci']\n",
      "entro a V\n",
      "DFa\n",
      "entro a V 1 juntas\n",
      "DFa\n",
      "6 C ['can', 'ció']\n"
     ]
    },
    {
     "data": {
      "text/plain": [
       "['can', 'ción']"
      ]
     },
     "execution_count": 550,
     "metadata": {},
     "output_type": "execute_result"
    }
   ],
   "source": [
    "silabas('canción')"
   ]
  },
  {
   "cell_type": "code",
   "execution_count": 551,
   "metadata": {},
   "outputs": [
    {
     "name": "stdout",
     "output_type": "stream",
     "text": [
      "0 CVVCCV []\n",
      "entro CVV 1\n",
      "entro CVV\n",
      "['C', 'D', 'F', 'C', 'C', 'F']\n",
      "entro aquiiii 2\n",
      "3 CCV ['gue']\n",
      "entro a CCV\n",
      "rr\n",
      "entro a CCV 2\n"
     ]
    },
    {
     "data": {
      "text/plain": [
       "['gue', 'rra']"
      ]
     },
     "execution_count": 551,
     "metadata": {},
     "output_type": "execute_result"
    }
   ],
   "source": [
    "silabas('guerra')"
   ]
  },
  {
   "cell_type": "code",
   "execution_count": 552,
   "metadata": {},
   "outputs": [
    {
     "name": "stdout",
     "output_type": "stream",
     "text": [
      "0 CVVVCVC []\n",
      "entro a CVVV\n",
      "DF\n",
      "4 CVC ['quie']\n",
      "entro a CV\n",
      "6 C ['quie', 're']\n"
     ]
    },
    {
     "data": {
      "text/plain": [
       "['quie', 'res']"
      ]
     },
     "execution_count": 552,
     "metadata": {},
     "output_type": "execute_result"
    }
   ],
   "source": [
    "silabas('quieres')"
   ]
  },
  {
   "cell_type": "code",
   "execution_count": 553,
   "metadata": {},
   "outputs": [
    {
     "name": "stdout",
     "output_type": "stream",
     "text": [
      "0 CVCVV []\n",
      "entro CVV 1\n",
      "entro a CV\n",
      "2 CVV ['ca']\n",
      "entro CVV 1\n",
      "entro CVV\n",
      "['C', 'D', 'D']\n",
      "entro aquiiii 2\n"
     ]
    },
    {
     "data": {
      "text/plain": [
       "['ca', 'qui']"
      ]
     },
     "execution_count": 553,
     "metadata": {},
     "output_type": "execute_result"
    }
   ],
   "source": [
    "silabas('caqui')"
   ]
  },
  {
   "cell_type": "code",
   "execution_count": 554,
   "metadata": {},
   "outputs": [
    {
     "name": "stdout",
     "output_type": "stream",
     "text": [
      "0 VCVVC []\n",
      "entro a VCV\n",
      "1 CVVC ['e']\n",
      "entro CVV 1\n",
      "entro CVV\n",
      "['C', 'D', 'D', 'C']\n",
      "entro aquiiii 2\n",
      "4 C ['e', 'qui']\n"
     ]
    },
    {
     "data": {
      "text/plain": [
       "['e', 'quis']"
      ]
     },
     "execution_count": 554,
     "metadata": {},
     "output_type": "execute_result"
    }
   ],
   "source": [
    "silabas('equis')"
   ]
  },
  {
   "cell_type": "code",
   "execution_count": 555,
   "metadata": {},
   "outputs": [
    {
     "name": "stdout",
     "output_type": "stream",
     "text": [
      "0 CVCCCVCVC []\n",
      "entro a CV\n",
      "2 CCCVCVC ['co']\n",
      "entro a CCCV\n",
      "6 CVC ['cons', 'pi']\n",
      "entro a CV\n",
      "8 C ['cons', 'pi', 'ra']\n"
     ]
    },
    {
     "data": {
      "text/plain": [
       "['cons', 'pi', 'rar']"
      ]
     },
     "execution_count": 555,
     "metadata": {},
     "output_type": "execute_result"
    }
   ],
   "source": [
    "silabas('conspirar')"
   ]
  },
  {
   "cell_type": "code",
   "execution_count": 556,
   "metadata": {},
   "outputs": [
    {
     "name": "stdout",
     "output_type": "stream",
     "text": [
      "0 VCVCVCV []\n",
      "entro a VCV\n",
      "3 CVCV ['a', 'ra']\n",
      "entro a CV\n",
      "5 CV ['a', 'ra', 'be']\n",
      "entro a CV\n"
     ]
    },
    {
     "data": {
      "text/plain": [
       "['a', 'ra', 'be', 'la']"
      ]
     },
     "execution_count": 556,
     "metadata": {},
     "output_type": "execute_result"
    }
   ],
   "source": [
    "silabas('arabela')"
   ]
  },
  {
   "cell_type": "code",
   "execution_count": 557,
   "metadata": {},
   "outputs": [
    {
     "name": "stdout",
     "output_type": "stream",
     "text": [
      "0 CVVC []\n",
      "entro CVV 1\n",
      "entro CVV\n",
      "['C', 'D', 'D', 'C']\n",
      "entro al cuarto ['C', 'D', 'D', 'C']\n",
      "3 C ['lui']\n"
     ]
    },
    {
     "data": {
      "text/plain": [
       "['luis']"
      ]
     },
     "execution_count": 557,
     "metadata": {},
     "output_type": "execute_result"
    }
   ],
   "source": [
    "silabas('luis')\n"
   ]
  },
  {
   "cell_type": "code",
   "execution_count": 558,
   "metadata": {},
   "outputs": [
    {
     "name": "stdout",
     "output_type": "stream",
     "text": [
      "0 VCVC []\n",
      "entro a VCV\n",
      "1 CVC ['a']\n",
      "entro a CV\n",
      "3 C ['a', 'zu']\n"
     ]
    },
    {
     "data": {
      "text/plain": [
       "['a', 'zul']"
      ]
     },
     "execution_count": 558,
     "metadata": {},
     "output_type": "execute_result"
    }
   ],
   "source": [
    "silabas('azul')"
   ]
  },
  {
   "cell_type": "code",
   "execution_count": 559,
   "metadata": {},
   "outputs": [
    {
     "name": "stdout",
     "output_type": "stream",
     "text": [
      "0 CVCVCVC []\n",
      "entro a CV\n",
      "2 CVCVC ['pá']\n",
      "entro a CV\n",
      "4 CVC ['pá', 'ja']\n",
      "entro a CV\n",
      "6 C ['pá', 'ja', 'ro']\n"
     ]
    },
    {
     "data": {
      "text/plain": [
       "['pá', 'ja', 'ros']"
      ]
     },
     "execution_count": 559,
     "metadata": {},
     "output_type": "execute_result"
    }
   ],
   "source": [
    "silabas('pájaros')"
   ]
  },
  {
   "cell_type": "code",
   "execution_count": 560,
   "metadata": {},
   "outputs": [
    {
     "name": "stdout",
     "output_type": "stream",
     "text": [
      "0 CVCCVVCV []\n",
      "entro CVV 1\n",
      "entro a CV\n",
      "2 CCVVCV ['pi']\n",
      "entro CVV 1\n",
      "entro a CCV\n",
      "ng\n",
      "entro a CCV 4\n",
      "6 CV ['pin', 'güi']\n",
      "entro a CV\n"
     ]
    },
    {
     "data": {
      "text/plain": [
       "['pin', 'güi', 'no']"
      ]
     },
     "execution_count": 560,
     "metadata": {},
     "output_type": "execute_result"
    }
   ],
   "source": [
    "silabas('pingüino')"
   ]
  },
  {
   "cell_type": "code",
   "execution_count": 613,
   "metadata": {},
   "outputs": [],
   "source": [
    "def printSilabas(word):\n",
    "    res = ''\n",
    "    arrSyl = silabas(word)\n",
    "    for i, sil in enumerate(arrSyl):\n",
    "        if i == len(arrSyl)-1:\n",
    "            res += sil + \"\"\n",
    "        else:\n",
    "            res += sil + \"-\"\n",
    "    return res"
   ]
  },
  {
   "cell_type": "code",
   "execution_count": 562,
   "metadata": {},
   "outputs": [
    {
     "name": "stdout",
     "output_type": "stream",
     "text": [
      "0 CVCCVVC []\n",
      "entro CVV 1\n",
      "entro a CV\n",
      "2 CCVVC ['ha']\n",
      "entro CVV 1\n",
      "entro a CCV\n",
      "entro a CCV 1\n",
      "5 VC ['ha', 'bré']\n",
      "entro a V\n",
      "FaD\n",
      "entro a V 1 juntas\n",
      "FaD\n",
      "6 C ['ha', 'bréi']\n",
      "ha-bréis "
     ]
    }
   ],
   "source": [
    "printSilabas('habréis')"
   ]
  },
  {
   "cell_type": "markdown",
   "metadata": {},
   "source": [
    "VERIFY TYPE OF WORD"
   ]
  },
  {
   "cell_type": "code",
   "execution_count": 563,
   "metadata": {},
   "outputs": [],
   "source": [
    "palabrasGraves = [\n",
    "    'abanderado', 'cocinero', 'mesa',\n",
    "    'abandonado', 'colcha', 'mochila',\n",
    "    'abanico', 'colmillo', 'muestra',\n",
    "    'abarrotado', 'colombia', 'mueve',\n",
    "    'abarrotes', 'comadreja', 'nubes',\n",
    "    'abasto', 'come', 'nublado',\n",
    "    'abeja', 'como', 'ojos',\n",
    "    'abortivo', 'compra', 'olas',\n",
    "    'abrasivo', 'computadora', 'ombligo',\n",
    "    'abrigo', 'conjuro', 'ordena',\n",
    "    'absoluto', 'consume', 'organiza',\n",
    "    'abuela', 'corre', 'oso',\n",
    "    'abuelo', 'corrige', 'pantera',\n",
    "    'acarreo', 'corta', 'para',\n",
    "    'acondicionado', 'cortinas', 'parlante',\n",
    "    'acuarela', 'cuaderno', 'pecas',\n",
    "    'acuario', 'cuadro', 'peces',\n",
    "    'acusado', 'cuanto', 'pecho',\n",
    "    'administrativo', 'cuchara', 'pelo',\n",
    "    'adorno', 'cuchillo', 'pera',\n",
    "    'aduana', 'cuello', 'pera',\n",
    "    'adulto', 'cuenta', 'perfume',\n",
    "    'adulto', 'desordena', 'perro',\n",
    "    'adultos', 'diente', 'pestañas',\n",
    "    'agua', 'disco', 'piedra',\n",
    "    'aire', 'domingo', 'pierna',\n",
    "    'alcantarilla', 'elefante', 'pintura',\n",
    "    'alfombra', 'elefante', 'piscis',\n",
    "    'almacena', 'empresa', 'plancha',\n",
    "    'almohada', 'enchufe', 'planeta',\n",
    "    'amarillo', 'enojo', 'planifica',\n",
    "    'amazonas', 'ensalada', 'playa',\n",
    "    'analiza', 'escorpio', 'pluma',\n",
    "    'anonadada', 'escribe', 'pone',\n",
    "    'antes', 'espera', 'poroto',\n",
    "    'anulares', 'estadio', 'puerto',\n",
    "    'arena', 'estima', 'quien',\n",
    "    'argentina', 'estrellas', 'rama',\n",
    "    'arrecife', 'estructura', 'recibe',\n",
    "    'asume', 'estudia', 'redacta',\n",
    "    'atento', 'estupefacta', 'regla',\n",
    "    'avispa', 'eugenesia', 'remera',\n",
    "    'balanza', 'eugenia', 'resumen',\n",
    "    'banana', 'figura', 'revisa',\n",
    "    'banana', 'flaca', 'rinoceronte',\n",
    "    'banco', 'folio', 'roca',\n",
    "    'bandada', 'fruta', 'rompe',\n",
    "    'bandido', 'fuente', 'ropa',\n",
    "    'baño', 'galaxias', 'rosario',\n",
    "    'banquero', 'ganado', 'saludo',\n",
    "    'bota', 'gases', 'santo',\n",
    "    'botana', 'gato', 'serio',\n",
    "    'bote', 'genio', 'signos',\n",
    "    'buena', 'gordo', 'silla',\n",
    "    'bufanda', 'guitarra', 'sorprendida',\n",
    "    'busca', 'gusano', 'suerte',\n",
    "    'caballo', 'hormigas', 'superpone',\n",
    "    'cabello', 'ingenio', 'surge',\n",
    "    'cable', 'intento', 'tamarindo',\n",
    "    'cachetes', 'jirafa', 'tapado',\n",
    "    'cadera', 'juega', 'teclado',\n",
    "    'calzado', 'jueves', 'teclas',\n",
    "    'cama', 'jueves', 'temperatura',\n",
    "    'caminata', 'jugo', 'termo',\n",
    "    'camisa', 'ladrillo', 'tetilla',\n",
    "    'camiseta', 'leche', 'tierra',\n",
    "    'camote', 'libro', 'tocadiscos',\n",
    "    'campo', 'limpieza', 'toma',\n",
    "    'capricornio', 'llueve', 'tonto',\n",
    "    'cara', 'lluvia', 'trampa',\n",
    "    'cardumen', 'lunar', 'trapo',\n",
    "    'carmen', 'lunes', 'universo',\n",
    "    'carpeta', 'maestra', 'vaca',\n",
    "    'cejas', 'mala', 'vaso',\n",
    "    'chango', 'manda', 'vende',\n",
    "    'chaqueta', 'manteca', 'venga',\n",
    "    'chile', 'manzana', 'vicuña',\n",
    "    'choclo', 'mariano', 'viernes',\n",
    "    'cielo', 'martes', 'volumen',\n",
    "    'clavo', 'martillo', 'vuelo',\n",
    "    'cloaca', 'mate', 'vuelos',\n",
    "    'cocina', 'media', 'zapatillas',\n",
    "    'cocina', 'memoriza', 'zapato'\n",
    "]"
   ]
  },
  {
   "cell_type": "code",
   "execution_count": 564,
   "metadata": {},
   "outputs": [],
   "source": [
    "palabrasAgudas = [\n",
    "    'abaratar', 'diluviar', 'maltratar',\n",
    "    'abarcar', 'diseminar', 'mandar',\n",
    "    'aborrecer', 'disentir', 'manipular',\n",
    "    'acalorar', 'disgregar', 'mencionar',\n",
    "    'acatar', 'doblez', 'mendigar',\n",
    "    'aceptar', 'dominar', 'mental',\n",
    "    'acicalar', 'dramatizar', 'mudar',\n",
    "    'acomodar', 'dorar', 'mundial',\n",
    "    'acoplar', 'dudar', 'musical',\n",
    "    'acorralar', 'ecuatorial', 'musicalizar',\n",
    "    'acusar', 'edificar', 'natural',\n",
    "    'adaptador', 'embarcar', 'naturalidad',\n",
    "    'adecuar', 'embaucar', 'necedad',\n",
    "    'adiestrador', 'emplazar', 'necesidad',\n",
    "    'adivinar', 'empezar', 'negociar',\n",
    "    'adjudicador', 'emprendedor', 'neonatal',\n",
    "    'adjudicar', 'encantar', 'neutral',\n",
    "    'administrar', 'encasillar', 'obesidad',\n",
    "    'admirador', 'encontrar', 'obsequiar',\n",
    "    'adoptar', 'enfocar', 'obsesionar',\n",
    "    'adorar', 'ensillar', 'ocupar',\n",
    "    'aerosol', 'entrometer', 'ofender',\n",
    "    'afectar', 'escolar', 'oficial',\n",
    "    'afinidad', 'esconder', 'oficiar',\n",
    "    'alcanzar', 'escribir', 'ofrendar',\n",
    "    'ampliar', 'esencial', 'orientador',\n",
    "    'animar', 'espiritual', 'oriental',\n",
    "    'animosidad', 'establecer', 'orinar',\n",
    "    'aniquilar', 'estipular', 'patinar',\n",
    "    'anticipar', 'evadir', 'percibir',\n",
    "    'ascender', 'expedir', 'peritoneal',\n",
    "    'asesinar', 'explorar', 'persuadir',\n",
    "    'asesor', 'facilitar', 'plantar',\n",
    "    'asiduidad', 'favorecer', 'policial',\n",
    "    'atender', 'febril', 'prometer',\n",
    "    'atrocidad', 'financiar', 'proseguir',\n",
    "    'azuzar', 'fragilidad', 'pulidor',\n",
    "    'balancear', 'frivolidad', 'purificar',\n",
    "    'billar', 'funcionar', 'racional',\n",
    "    'bimestral', 'ganar', 'racionar',\n",
    "    'binocular', 'garantizar', 'real',\n",
    "    'blanqueador', 'generar', 'rectangular',\n",
    "    'blanquear', 'generosidad', 'regresar',\n",
    "    'borrar', 'genial', 'rentar',\n",
    "    'bostezar', 'girar', 'reptar',\n",
    "    'boxear', 'glacial', 'rescatar',\n",
    "    'brevedad', 'glaciar', 'ritual',\n",
    "    'bronceador', 'gladiador', 'rumiar',\n",
    "    'brutal', 'gratitud', 'saborear',\n",
    "    'burbujear', 'guardar', 'sacar',\n",
    "    'cabezal', 'habitual', 'salar',\n",
    "    'caducidad', 'habituar', 'salir',\n",
    "    'calentar', 'hexagonal', 'saludar',\n",
    "    'cantar', 'hostal', 'salvador',\n",
    "    'cantor', 'hotel', 'sanear',\n",
    "    'cañaveral', 'humedad', 'sanidad',\n",
    "    'capacidad', 'humedecer', 'santidad',\n",
    "    'causal', 'hundir', 'santiguar',\n",
    "    'cavidad', 'implicar', 'separar',\n",
    "    'cazar', 'importar', 'simpatizar',\n",
    "    'central', 'incondicional', 'sobrenatural',\n",
    "    'cepillar', 'inferior', 'soldar',\n",
    "    'colocar', 'infiltrar', 'sumar',\n",
    "    'combatir', 'ingenuidad', 'superior',\n",
    "    'compensar', 'inicial', 'tejer',\n",
    "    'competir', 'inmoral', 'timador',\n",
    "    'compresor', 'insinuar', 'trabajar',\n",
    "    'consolar', 'integridad', 'traer',\n",
    "    'contener', 'interior', 'traicionar',\n",
    "    'continental', 'interpretar', 'trasplantar',\n",
    "    'contrariedad', 'intrigar', 'ungir',\n",
    "    'contribuir', 'jalar', 'unidad',\n",
    "    'corral', 'jocosidad', 'universal',\n",
    "    'costillar', 'judicial', 'untar',\n",
    "    'cruzar', 'jugar', 'urbanidad',\n",
    "    'dejar', 'jurar', 'vecindad',\n",
    "    'delinquir', 'justificar', 'ventilar',\n",
    "    'denigrar', 'laminar', 'veracidad',\n",
    "    'dental', 'legitimidad', 'verdad',\n",
    "    'depositar', 'lesionar', 'vitorear',\n",
    "    'desesperar', 'maldecir', 'vivir',\n",
    "    'desperdiciar', 'memorizar', 'vivenciar'\n",
    "]\n"
   ]
  },
  {
   "cell_type": "code",
   "execution_count": 592,
   "metadata": {},
   "outputs": [],
   "source": [
    "def hayAcento(word):\n",
    "    for letra in word.lower():\n",
    "        if letra in 'áéíóú':\n",
    "            return True\n",
    "    return False"
   ]
  },
  {
   "cell_type": "code",
   "execution_count": 608,
   "metadata": {},
   "outputs": [],
   "source": [
    "def getTypeWord(sylls, word):\n",
    "    for i, syl in enumerate(reversed(sylls)):\n",
    "        print(i, syl, hayAcento(syl))\n",
    "        if (i == 0 and hayAcento(syl)) or (word in palabrasAgudas):\n",
    "            return 'aguda'\n",
    "        elif i == 1 and hayAcento(syl) or (word in palabrasGraves):\n",
    "            return 'grave'\n",
    "        elif i == 2 and hayAcento(syl):\n",
    "            return 'esdrujula'\n",
    "        elif i == 3 and hayAcento(syl):\n",
    "            return 'sobresdrujula'      \n",
    "    return 'idk'"
   ]
  },
  {
   "cell_type": "code",
   "execution_count": 607,
   "metadata": {},
   "outputs": [
    {
     "name": "stdout",
     "output_type": "stream",
     "text": [
      "0 CVCVV []\n",
      "entro CVV 1\n",
      "entro a CV\n",
      "2 CVV ['ní']\n",
      "entro CVV 1\n",
      "entro CVV\n",
      "['C', 'F', 'F']\n",
      "entro al tercero ['C', 'F', 'F']\n",
      "0 a False\n",
      "1 ve False\n",
      "2 ní True\n"
     ]
    },
    {
     "data": {
      "text/plain": [
       "'esdrujula'"
      ]
     },
     "execution_count": 607,
     "metadata": {},
     "output_type": "execute_result"
    }
   ],
   "source": [
    "getTypeWord(silabas('nívea'), 'nívea')"
   ]
  },
  {
   "cell_type": "code",
   "execution_count": 573,
   "metadata": {},
   "outputs": [
    {
     "name": "stdout",
     "output_type": "stream",
     "text": [
      "0 VCCV []\n",
      "entro a V\n",
      "1 CCV ['a']\n",
      "entro a CCV\n",
      "lb\n",
      "entro a CCV 3\n"
     ]
    },
    {
     "data": {
      "text/plain": [
       "['al', 'ba']"
      ]
     },
     "execution_count": 573,
     "metadata": {},
     "output_type": "execute_result"
    }
   ],
   "source": [
    "silabas('alba')"
   ]
  },
  {
   "cell_type": "code",
   "execution_count": 611,
   "metadata": {},
   "outputs": [],
   "source": [
    "def veriSinalefa(w1, w2):\n",
    "    if veriVocals(w1[-1]) != False:\n",
    "        if (veriVocals(w2[0]) != False) or (w2[0] in 'hH' and veriVocals(w2[1]) != False):\n",
    "            return True\n",
    "    return False"
   ]
  },
  {
   "cell_type": "code",
   "execution_count": 621,
   "metadata": {},
   "outputs": [],
   "source": [
    "verso = 'selva a su amor que por el verde suelo'\n",
    "palabras = verso.split()\n",
    "def metricasVerso(palabrasVerso):\n",
    "    newVerso = ''\n",
    "    countsyl = 0\n",
    "    counSinalefa = 0\n",
    "    for i, palabra in enumerate(palabrasVerso):\n",
    "        sylls = silabas(palabra)\n",
    "        countsyl += len(sylls)\n",
    "        newVerso += printSilabas(palabra)\n",
    "        if i != len(palabrasVerso)-1:\n",
    "            if veriSinalefa(palabra, palabrasVerso[i+1]):\n",
    "                counSinalefa += 1\n",
    "            else:\n",
    "                newVerso += ' '\n",
    "    if getTypeWord(sylls, palabrasVerso[-1]) == 'esdrujula':\n",
    "        countsyl -= 1\n",
    "    if getTypeWord(sylls, palabrasVerso[-1]) == 'aguda':\n",
    "        countsyl += 1\n",
    "    countsyl-=counSinalefa\n",
    "    newVerso += '\\t' + str(countsyl) + ' Silabas'\n",
    "    if counSinalefa != 0: \n",
    "        newVerso += '\\t' + str(counSinalefa) + ' Sinalefas'\n",
    "        \n",
    "    return newVerso"
   ]
  },
  {
   "cell_type": "code",
   "execution_count": 623,
   "metadata": {},
   "outputs": [
    {
     "name": "stdout",
     "output_type": "stream",
     "text": [
      "0 CVCCV []\n",
      "entro a CV\n",
      "2 CCV ['se']\n",
      "entro a CCV\n",
      "lv\n",
      "entro a CCV 3\n",
      "0 CVCCV []\n",
      "entro a CV\n",
      "2 CCV ['se']\n",
      "entro a CCV\n",
      "lv\n",
      "entro a CCV 3\n",
      "0 V []\n",
      "entro a V\n",
      "0 V []\n",
      "entro a V\n",
      "0 CV []\n",
      "entro a CV\n",
      "0 CV []\n",
      "entro a CV\n",
      "0 VCVC []\n",
      "entro a VCV\n",
      "3 C ['a', 'mo']\n",
      "0 VCVC []\n",
      "entro a VCV\n",
      "3 C ['a', 'mo']\n",
      "0 CVV []\n",
      "entro CVV 1\n",
      "entro CVV\n",
      "['C', 'D', 'F']\n",
      "entro aquiiii 2\n",
      "0 CVV []\n",
      "entro CVV 1\n",
      "entro CVV\n",
      "['C', 'D', 'F']\n",
      "entro aquiiii 2\n",
      "0 CVC []\n",
      "entro a CV\n",
      "2 C ['po']\n",
      "0 CVC []\n",
      "entro a CV\n",
      "2 C ['po']\n",
      "0 VC []\n",
      "entro a V\n",
      "1 C ['e']\n",
      "0 VC []\n",
      "entro a V\n",
      "1 C ['e']\n",
      "0 CVCCV []\n",
      "entro a CV\n",
      "2 CCV ['ve']\n",
      "entro a CCV\n",
      "rd\n",
      "entro a CCV 3\n",
      "0 CVCCV []\n",
      "entro a CV\n",
      "2 CCV ['ve']\n",
      "entro a CCV\n",
      "rd\n",
      "entro a CCV 3\n",
      "0 CVVCV []\n",
      "entro CVV 1\n",
      "entro CVV\n",
      "['C', 'D', 'F', 'C', 'F']\n",
      "entro al quinto ['C', 'D', 'F', 'C', 'F']\n",
      "3 CV ['sue']\n",
      "entro a CV\n",
      "0 CVVCV []\n",
      "entro CVV 1\n",
      "entro CVV\n",
      "['C', 'D', 'F', 'C', 'F']\n",
      "entro al quinto ['C', 'D', 'F', 'C', 'F']\n",
      "3 CV ['sue']\n",
      "entro a CV\n",
      "0 lo False\n",
      "1 sue False\n",
      "0 lo False\n",
      "1 sue False\n",
      "sel-vaa sua-mor que por el ver-de sue-lo\t11 Silabas\t2 Sinalefas\n"
     ]
    }
   ],
   "source": [
    "print(metricasVerso(palabras))"
   ]
  },
  {
   "cell_type": "code",
   "execution_count": null,
   "metadata": {},
   "outputs": [],
   "source": []
  }
 ],
 "metadata": {
  "kernelspec": {
   "display_name": "Python 3",
   "language": "python",
   "name": "python3"
  },
  "language_info": {
   "codemirror_mode": {
    "name": "ipython",
    "version": 3
   },
   "file_extension": ".py",
   "mimetype": "text/x-python",
   "name": "python",
   "nbconvert_exporter": "python",
   "pygments_lexer": "ipython3",
   "version": "3.11.3"
  }
 },
 "nbformat": 4,
 "nbformat_minor": 2
}
