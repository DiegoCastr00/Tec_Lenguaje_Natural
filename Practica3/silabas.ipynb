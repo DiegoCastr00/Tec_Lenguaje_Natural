{
 "cells": [
  {
   "cell_type": "code",
   "execution_count": 560,
   "metadata": {},
   "outputs": [],
   "source": [
    "def veriConsonant(letter):\n",
    "    consonants = 'bcdfghjklmnñpqrstuvwxyz'\n",
    "    if letter in consonants:\n",
    "        return True\n",
    "    return False\n",
    "\n",
    "def veriVocals(letter):\n",
    "    vocals = 'aeiouAEIOU'\t\n",
    "    vocalsTilde = 'áéíóúÁÉÍÓÚ'\n",
    "    if letter in vocals:\n",
    "        return 'sin'\n",
    "    elif letter in vocalsTilde:\n",
    "        return 'con'\n",
    "    return False\n",
    "\n",
    "def defineLetters(word):\n",
    "    types = ''\n",
    "    for letter in word:\n",
    "        if veriConsonant(letter):\n",
    "            types += 'C'\n",
    "        elif veriVocals(letter):\n",
    "            types += 'V'\n",
    "    return types"
   ]
  },
  {
   "cell_type": "code",
   "execution_count": 561,
   "metadata": {},
   "outputs": [],
   "source": [
    "def regla1(word, syllables):\n",
    "    pos = 0\n",
    "    if veriConsonant(word[0]):\n",
    "        for i, l in enumerate(word):\n",
    "            if veriVocals(l) == 'sin' or veriVocals(l) == 'con':\n",
    "                syllables.append(word[0:i+1])\n",
    "                pos = i+1\n",
    "                break\n",
    "    return syllables, pos"
   ]
  },
  {
   "cell_type": "code",
   "execution_count": 562,
   "metadata": {},
   "outputs": [],
   "source": [
    "def silabas(word):\n",
    "    syllables = []\n",
    "    types = defineLetters(word)\n",
    "    syllables, ini = regla1(word, syllables)\n",
    "    print(types)\n",
    "    newTypes = types[ini:len(word)+1]\n",
    "    recordW = word[ini:len(word)+1]\n",
    "    print(newTypes)\n",
    "    print(recordW)\n",
    "    i = ini\n",
    "    print('holi', ini)\n",
    "    print(len(recordW))\n",
    "    while i <= len(recordW)+1:\n",
    "        newTypes = types[i:len(word)+1]\n",
    "        recordW = word[i:len(word)+1]\n",
    "        if 'VCV' in newTypes:\n",
    "            if newTypes.index('VCV') == 0:\n",
    "                indiceI = newTypes.index('VCV')\n",
    "                syllables.append(recordW[indiceI])\n",
    "                syllables.append(recordW[indiceI + 1 ] + recordW[indiceI + 2])\n",
    "                i += 3\n",
    "            else: \n",
    "                print('no')\n",
    "        if 'CV' in newTypes:\n",
    "            if newTypes.index('CV') == 0:\n",
    "                indiceI = newTypes.index('CV')\n",
    "                syllables.append(recordW[indiceI] + recordW[indiceI + 1])\n",
    "                i += 2\n",
    "            else:\n",
    "                print('no2')\n",
    "        print('i', i)\n",
    "    return syllables"
   ]
  },
  {
   "cell_type": "code",
   "execution_count": 563,
   "metadata": {},
   "outputs": [
    {
     "name": "stdout",
     "output_type": "stream",
     "text": [
      "CCVCV\n",
      "CV\n",
      "to\n",
      "holi 3\n",
      "2\n",
      "i 5\n"
     ]
    },
    {
     "data": {
      "text/plain": [
       "['pla', 'to']"
      ]
     },
     "execution_count": 563,
     "metadata": {},
     "output_type": "execute_result"
    }
   ],
   "source": [
    "silabas('plato')"
   ]
  },
  {
   "cell_type": "code",
   "execution_count": 564,
   "metadata": {},
   "outputs": [
    {
     "name": "stdout",
     "output_type": "stream",
     "text": [
      "VCVCVCV\n",
      "VCVCVCV\n",
      "arabela\n",
      "holi 0\n",
      "7\n",
      "no2\n",
      "i 3\n",
      "no\n",
      "i 5\n",
      "i 7\n"
     ]
    },
    {
     "data": {
      "text/plain": [
       "['a', 'ra', 'be', 'la']"
      ]
     },
     "execution_count": 564,
     "metadata": {},
     "output_type": "execute_result"
    }
   ],
   "source": [
    "silabas('arabela')"
   ]
  },
  {
   "cell_type": "code",
   "execution_count": null,
   "metadata": {},
   "outputs": [],
   "source": [
    "\n"
   ]
  }
 ],
 "metadata": {
  "kernelspec": {
   "display_name": "Python 3",
   "language": "python",
   "name": "python3"
  },
  "language_info": {
   "codemirror_mode": {
    "name": "ipython",
    "version": 3
   },
   "file_extension": ".py",
   "mimetype": "text/x-python",
   "name": "python",
   "nbconvert_exporter": "python",
   "pygments_lexer": "ipython3",
   "version": "3.11.3"
  }
 },
 "nbformat": 4,
 "nbformat_minor": 2
}
