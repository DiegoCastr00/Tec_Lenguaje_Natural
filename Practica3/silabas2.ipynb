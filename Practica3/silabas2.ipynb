{
 "cells": [
  {
   "cell_type": "code",
   "execution_count": 2,
   "metadata": {},
   "outputs": [],
   "source": [
    "def identify(word):\n",
    "    types = []\n",
    "    consonants = 'bcdfghjklmnñpqrstvwxyz'\n",
    "    fuertes = 'aeoAEO'\n",
    "    debiles = 'iuIU'\n",
    "    fuertesA = 'ÁÉÓáéó'\t\n",
    "    debilesA = 'íúÍÚ'\n",
    "    for letter in word:\n",
    "        if letter in consonants:\n",
    "            types.append('C')\n",
    "        elif letter in fuertes:\n",
    "            types.append('VF')\n",
    "        elif letter in fuertesA:\n",
    "            types.append('VFa')\n",
    "        elif letter in debiles:\n",
    "            types.append('VD')\n",
    "        elif letter in debilesA:\n",
    "            types.append('VDa')\n",
    "    return types\n",
    "\n",
    "def veriConsonant(letter):\n",
    "    consonants = 'bcdfghjklmnñpqrstvwxyz'\n",
    "    if letter in consonants:\n",
    "        return True\n",
    "    return False\n",
    "\n",
    "def veriVocal(letter):\n",
    "    vocals = 'aeiouAEIOUáéíóúÁÉÍÓÚ'\n",
    "    if letter in vocals:\n",
    "        return True\n",
    "    return False\n",
    "    "
   ]
  },
  {
   "cell_type": "code",
   "execution_count": 3,
   "metadata": {},
   "outputs": [
    {
     "data": {
      "text/plain": [
       "['C', 'VF', 'C', 'C', 'C', 'VD', 'C', 'VD', 'C', 'VD', 'VFa', 'C']"
      ]
     },
     "execution_count": 3,
     "metadata": {},
     "output_type": "execute_result"
    }
   ],
   "source": [
    "identify('constitución')"
   ]
  },
  {
   "cell_type": "code",
   "execution_count": null,
   "metadata": {},
   "outputs": [],
   "source": [
    "def silabas(word):\n",
    "    syllables = []\n",
    "    types = defineLetters(word)\n",
    "    typesV = getrecord(typeVocal(word), recordW)\n",
    "            wordCompare = getrecord(wordNoAccent(word), recordW)\n",
    "            if newTypes.index('VV') == 0:\n",
    "                if 'FF' in typesV:\n",
    "                    '''if newTypes.index('FF') == 0 and veriConsonant(syllables[-1][-1]) != False:\n",
    "                        syllables[-1] += recordW[0] \n",
    "                        syllables.append(recordW[1])\n",
    "                        i+=2'''\n",
    "                    if newTypes.index('FFC') == 0 :\n",
    "                        syllables.append(recordW[0])\n",
    "                        syllables.append(recordW[1]+ syllables[2])\n",
    "                        i+=3\n",
    "                if newTypes.index('DD') == 0 and sameV(word, recordW) == False:\n",
    "                    if veriConsonant(syllables[-1][-1]) != False:\n",
    "                        syllables[-1] += recordW[0] \n",
    "                        syllables.append(recordW[1])\n",
    "                        i+=2\n",
    "                else:\n",
    "                       "
   ]
  }
 ],
 "metadata": {
  "kernelspec": {
   "display_name": "Python 3",
   "language": "python",
   "name": "python3"
  },
  "language_info": {
   "codemirror_mode": {
    "name": "ipython",
    "version": 3
   },
   "file_extension": ".py",
   "mimetype": "text/x-python",
   "name": "python",
   "nbconvert_exporter": "python",
   "pygments_lexer": "ipython3",
   "version": "3.11.3"
  }
 },
 "nbformat": 4,
 "nbformat_minor": 2
}
