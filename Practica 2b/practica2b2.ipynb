{
 "cells": [
  {
   "cell_type": "code",
   "execution_count": 2,
   "metadata": {},
   "outputs": [
    {
     "name": "stdout",
     "output_type": "stream",
     "text": [
      "IDF para 'es': [[1.91629073 1.91629073 1.91629073 1.91629073 1.91629073 1.91629073\n",
      "  1.91629073 1.91629073 1.91629073 1.91629073 1.91629073 1.91629073\n",
      "  1.91629073 1.91629073 1.91629073 1.91629073 1.91629073 1.91629073\n",
      "  1.91629073 1.91629073 1.91629073 1.91629073 1.91629073 1.91629073\n",
      "  1.91629073 1.91629073 1.91629073 1.91629073 1.91629073 1.91629073\n",
      "  1.91629073 1.91629073 1.91629073 1.91629073 1.91629073 1.91629073\n",
      "  1.91629073]]\n"
     ]
    }
   ],
   "source": [
    "from sklearn.feature_extraction.text import TfidfVectorizer\n",
    "documentos = [\n",
    "\"La noche estrellada brilla. Estrellas brillantes iluminan. Brillo en la oscuridad eterna\",\n",
    "\"Los pájaros cantan libres. Libres vuelan sin miedo. Cantan melodías alegres.\",\n",
    "\"Mar azul profundo callado. Callado y sereno reposa. Profundo misterio encerrado.\",\n",
    "\"Verano caluroso interminable. Caluroso día soleado espera. Verano eterno se acerca.\"\n",
    "]\n",
    "# Inicializar el vectorizador TF-IDF \n",
    "tfidf_vectorizer = TfidfVectorizer()\n",
    "# Ajustar el vectorizador a la colección de documentos \n",
    "tfidf_vectorizer.fit(documentos)\n",
    "# Obtener el IDF para el término \"documento\"\n",
    "term = \"es\"\n",
    "idf = tfidf_vectorizer.idf_[tfidf_vectorizer.vocabulary_.get(term)]\n",
    "print (f\"IDF para '{term}': {idf}\")"
   ]
  }
 ],
 "metadata": {
  "kernelspec": {
   "display_name": "Python 3",
   "language": "python",
   "name": "python3"
  },
  "language_info": {
   "codemirror_mode": {
    "name": "ipython",
    "version": 3
   },
   "file_extension": ".py",
   "mimetype": "text/x-python",
   "name": "python",
   "nbconvert_exporter": "python",
   "pygments_lexer": "ipython3",
   "version": "3.10.9"
  }
 },
 "nbformat": 4,
 "nbformat_minor": 2
}
