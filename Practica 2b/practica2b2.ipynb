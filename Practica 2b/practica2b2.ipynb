{
 "cells": [
  {
   "cell_type": "code",
   "execution_count": 2,
   "metadata": {},
   "outputs": [
    {
     "name": "stdout",
     "output_type": "stream",
     "text": [
      "IDF para 'es': 1.2231435513142097\n"
     ]
    }
   ],
   "source": [
    "from sklearn.feature_extraction.text import TfidfVectorizer\n",
    "documentos = [\n",
    "\"Este es el primer documento.\",\n",
    "\"Este es el segundo documento.\",\n",
    "\"El tercer documento es diferente.\",\n",
    "\"Aquí tenemos un cuarto documento.\"\n",
    "]\n",
    "# Inicializar el vectorizador TF-IDF \n",
    "tfidf_vectorizer = TfidfVectorizer()\n",
    "# Ajustar el vectorizador a la colección de documentos \n",
    "tfidf_vectorizer.fit(documentos)\n",
    "# Obtener el IDF para el término \"documento\"\n",
    "term = \"es\"\n",
    "idf = tfidf_vectorizer.idf_[tfidf_vectorizer.vocabulary_.get(term)]\n",
    "print (f\"IDF para '{term}': {idf}\")"
   ]
  }
 ],
 "metadata": {
  "kernelspec": {
   "display_name": "Python 3",
   "language": "python",
   "name": "python3"
  },
  "language_info": {
   "codemirror_mode": {
    "name": "ipython",
    "version": 3
   },
   "file_extension": ".py",
   "mimetype": "text/x-python",
   "name": "python",
   "nbconvert_exporter": "python",
   "pygments_lexer": "ipython3",
   "version": "3.11.2"
  }
 },
 "nbformat": 4,
 "nbformat_minor": 2
}
