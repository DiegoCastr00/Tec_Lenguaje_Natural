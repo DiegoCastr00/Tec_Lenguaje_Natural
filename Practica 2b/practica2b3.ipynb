{
 "cells": [
  {
   "cell_type": "code",
   "execution_count": 3,
   "metadata": {},
   "outputs": [
    {
     "name": "stdout",
     "output_type": "stream",
     "text": [
      "Documento (i + 1): Este es el primer documento.\n",
      "TF-IDF para 'documento': 0.3170703183040649\n",
      "\n",
      "Documento (i + 1): Este es el segundo documento.\n",
      "TF-IDF para 'documento': 0.3170703183040649\n",
      "\n",
      "Documento (i + 1): El tercer documento es diferente.\n",
      "TF-IDF para 'documento': 0.2970027644728223\n",
      "\n",
      "Documento (i + 1): Aquí tenemos un cuarto documento.\n",
      "TF-IDF para 'documento': 0.25246826075544676\n",
      "\n"
     ]
    }
   ],
   "source": [
    "from sklearn.feature_extraction.text import TfidfVectorizer\n",
    "documentos = [\n",
    "\"Este es el primer documento.\",\n",
    "\"Este es el segundo documento.\",\n",
    "\"El tercer documento es diferente.\",\n",
    "\"Aquí tenemos un cuarto documento.\"\n",
    "]\n",
    "\n",
    "# Inicializar el vectorizador TF-IDF\n",
    "tfidf_vectorizer = TfidfVectorizer()\n",
    "\n",
    "#Ajustar el vectorizador a la colección de documentos \n",
    "tfidf_matrix = tfidf_vectorizer.fit_transform(documentos)\n",
    "# Obtener el TF-IDF para el término \"documento\" en cada documento \n",
    "term = \"documento\"\n",
    "term_index = tfidf_vectorizer.vocabulary_.get(term)\n",
    "tfidf_scores = tfidf_matrix[:, term_index].toarray().flatten()\n",
    "# Imprimir el TF-IDF para cada documento \n",
    "for i, documento in enumerate(documentos):\n",
    "    print (f\"Documento (i + 1): {documento}\")\n",
    "    print (f\"TF-IDF para '{term}': {tfidf_scores[i]}\") \n",
    "    print()"
   ]
  }
 ],
 "metadata": {
  "kernelspec": {
   "display_name": "Python 3",
   "language": "python",
   "name": "python3"
  },
  "language_info": {
   "codemirror_mode": {
    "name": "ipython",
    "version": 3
   },
   "file_extension": ".py",
   "mimetype": "text/x-python",
   "name": "python",
   "nbconvert_exporter": "python",
   "pygments_lexer": "ipython3",
   "version": "3.11.2"
  }
 },
 "nbformat": 4,
 "nbformat_minor": 2
}
