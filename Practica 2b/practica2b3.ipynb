{
 "cells": [
  {
   "cell_type": "code",
   "execution_count": 3,
   "metadata": {},
   "outputs": [
    {
     "name": "stdout",
     "output_type": "stream",
     "text": [
      "Tierra de artistas San Bernardino Contla es tierra fértil. Aquí nació y vivió su infancia y juventud el gran pintor Desiderio Hernández Xochitiotzin, creador de los murales que adornan el Palacio de Gobierno en pleno centro de Tlaxcala. La máquina que opera el joven artesano Cuamatzin es tan antigua como el arte textil de Tlaxcala. Todas las piezas principales del telar son de madera labrada a mano. El sonido rítmico del pedaleo produce una especie de música industrial muy grata que acompaña las horas de trabajo de este singular artesano, capturador de colores, tonos y matices. Detrás de la máquina, las manos de Daniel, entrenadas para urdir tramas multicolores, dan vida todos los días a nuevos Saltillos de diferentes tamaños. Quedan pocas industrias del tejido artesanal a la antigua usanza. Hace treinta o cuarenta años casi todas las familias de Contla tejían sarapes. Mientras se transmita el oficio de generación en generación y los niños lo aprendan y lo continúen, habrá artesanías textiles al\n",
      "\n",
      "Documento 1: Este es el primer documento.\n",
      "TF-IDF para 'es': 0.3878225151467608\n",
      "\n",
      "Documento 2: Este es el segundo documento.\n",
      "TF-IDF para 'es': 0.3878225151467608\n",
      "\n",
      "Documento 3: El tercer documento es diferente.\n",
      "TF-IDF para 'es': 0.3632770160874257\n",
      "\n",
      "Documento 4: Aquí tenemos un cuarto documento.\n",
      "TF-IDF para 'es': 0.0\n",
      "\n"
     ]
    }
   ],
   "source": [
    "from sklearn.feature_extraction.text import TfidfVectorizer\n",
    "\n",
    "with open('TierraArtistas.txt', 'r', encoding='utf-8-sig') as archivo:\n",
    "    doc1 = archivo.read()\n",
    "if doc1.startswith('\\ufeff'):\n",
    "    doc1 = doc1[1:]\n",
    "print(doc1)\n",
    "\n",
    "\n",
    "\n",
    "documentos = [\n",
    "\"Este es el primer documento.\",\n",
    "\"Este es el segundo documento.\",\n",
    "\"El tercer documento es diferente.\",\n",
    "\"Aquí tenemos un cuarto documento.\"\n",
    "]\n",
    "\n",
    "# Inicializar el vectorizador TF-IDF\n",
    "tfidf_vectorizer = TfidfVectorizer()\n",
    "\n",
    "#Ajustar el vectorizador a la colección de documentos \n",
    "tfidf_matrix = tfidf_vectorizer.fit_transform(documentos)\n",
    "# Obtener el TF-IDF para el término \"documento\" en cada documento \n",
    "term = \"es\"\n",
    "term_index = tfidf_vectorizer.vocabulary_.get(term)\n",
    "tfidf_scores = tfidf_matrix[:, term_index].toarray().flatten()\n",
    "# Imprimir el TF-IDF para cada documento \n",
    "for i, documento in enumerate(documentos):\n",
    "    print (f\"Documento {i + 1}: {documento}\")\n",
    "    print (f\"TF-IDF para '{term}': {tfidf_scores[i]}\") \n",
    "    print()"
   ]
  }
 ],
 "metadata": {
  "kernelspec": {
   "display_name": "Python 3",
   "language": "python",
   "name": "python3"
  },
  "language_info": {
   "codemirror_mode": {
    "name": "ipython",
    "version": 3
   },
   "file_extension": ".py",
   "mimetype": "text/x-python",
   "name": "python",
   "nbconvert_exporter": "python",
   "pygments_lexer": "ipython3",
   "version": "3.11.2"
  }
 },
 "nbformat": 4,
 "nbformat_minor": 2
}
