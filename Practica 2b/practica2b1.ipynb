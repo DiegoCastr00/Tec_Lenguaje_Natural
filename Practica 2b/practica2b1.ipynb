{
 "cells": [
  {
   "cell_type": "code",
   "execution_count": 7,
   "metadata": {},
   "outputs": [
    {
     "name": "stdout",
     "output_type": "stream",
     "text": [
      "Palabra: pepe, TF: 0.18181818181818182\n",
      "Palabra: pecas, TF: 0.18181818181818182\n",
      "Palabra: pica, TF: 0.18181818181818182\n",
      "Palabra: papas,, TF: 0.09090909090909091\n",
      "Palabra: con, TF: 0.09090909090909091\n",
      "Palabra: un, TF: 0.09090909090909091\n",
      "Palabra: pico,, TF: 0.09090909090909091\n",
      "Palabra: papas., TF: 0.09090909090909091\n"
     ]
    }
   ],
   "source": [
    "\n",
    "def calcular_tf(texto):\n",
    "    palabras = texto.split()\n",
    "    total_palabras = len(palabras)\n",
    "    tf = {}\n",
    "    for palabra in palabras:\n",
    "        palabra = palabra.lower()\n",
    "        if palabra in tf:\n",
    "            tf[palabra] += 1\n",
    "        else:\n",
    "            tf[palabra] = 1\n",
    "    for palabra, frecuencia in tf.items():\n",
    "        tf[palabra] = frecuencia / total_palabras\n",
    "    return tf\n",
    "texto = \"Pepe pecas pica papas, con un pico, pepe pecas pica papas.\"\n",
    "tf_result = calcular_tf(texto)\n",
    "for palabra, tf in tf_result.items(): \n",
    "    print(f\"Palabra: {palabra}, TF: {tf}\")"
   ]
  },
  {
   "cell_type": "code",
   "execution_count": null,
   "metadata": {},
   "outputs": [],
   "source": []
  }
 ],
 "metadata": {
  "kernelspec": {
   "display_name": "Python 3",
   "language": "python",
   "name": "python3"
  },
  "language_info": {
   "codemirror_mode": {
    "name": "ipython",
    "version": 3
   },
   "file_extension": ".py",
   "mimetype": "text/x-python",
   "name": "python",
   "nbconvert_exporter": "python",
   "pygments_lexer": "ipython3",
   "version": "3.11.2"
  }
 },
 "nbformat": 4,
 "nbformat_minor": 2
}
