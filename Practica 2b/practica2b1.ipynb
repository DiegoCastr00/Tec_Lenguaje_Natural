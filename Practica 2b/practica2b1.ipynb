{
 "cells": [
  {
   "cell_type": "code",
   "execution_count": null,
   "metadata": {},
   "outputs": [],
   "source": [
    "\n",
    "def calcular_tf(texto):\n",
    "    # Tokenización: Dividir el texto en palabras\n",
    "    palabras = texto.split()\n",
    "    # Calcular el número total de palabras en el texto\n",
    "    total_palabras = len(palabras)\n",
    "    # Crear un diccionario para almacenar la frecuencia de cada palabra\n",
    "    tf()\n",
    "    # Calcular la frecuencia de términos\n",
    "    for palabra in palabras:\n",
    "    Convertir la palabra a minúsculas para que 'Ejemplo' y 'ejemplo se consideren iguales palabra = palabra.lower()\n",
    "    #Si la palabra ya está en el diccionario, incrementar su frecuencia en 1\n",
    "    if palabra in tf:\n",
    "    tf[palabra] += 1\n",
    "    # Si la palabra no está en el diccionario, inicializar su frecuencia en 1 else:\n",
    "    tf[palabra] = 1\n",
    "    # Calcular el TF dividiendo la frecuencia de cada palabra por el total de palabras for palabra, frecuencia in tf.items():\n",
    "    tf[palabra] = frecuencia / total_palabras\n",
    "    return tf\n",
    "    #Texto de ejemplo\n",
    "    texto = \"Pepe pecas pica papas, con un pico, pepe pecas pica papas.\"\n",
    "    # Calcular TF para el texto de ejemplo\n",
    "    tf_result = calcular_tf(texto)\n",
    "    # Imprimir la frecuencia de términos for palabra, tf in tf_result.items(): print(\"Palabra: (palabra), TF: {tf}\")"
   ]
  }
 ],
 "metadata": {
  "language_info": {
   "name": "python"
  }
 },
 "nbformat": 4,
 "nbformat_minor": 2
}
