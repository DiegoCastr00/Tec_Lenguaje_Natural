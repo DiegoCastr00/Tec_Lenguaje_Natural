{
 "cells": [
  {
   "cell_type": "markdown",
   "metadata": {},
   "source": [
    "Why are we taking time to learn a process that is already automated? The answer is that learning to do the calculations by hand will give us insight into how tf-idf really works. This insight is valuable. Instead of viewing tf-idf scores as some magical number our spreadsheet or computer program gives us, we'll be able to explain where that number comes from."
   ]
  },
  {
   "cell_type": "code",
   "execution_count": 646,
   "metadata": {
    "scrolled": false
   },
   "outputs": [],
   "source": [
    "import nltk\n",
    "import re\n",
    "from nltk.corpus import stopwords\n",
    "from nltk.tokenize import word_tokenize, sent_tokenize\n",
    "import math\n",
    "import operator\n",
    "import statistics\n",
    "from string import punctuation\n",
    "stop_words = set(stopwords.words('spanish') + list(punctuation))\n",
    "from nltk.stem.porter import PorterStemmer\n",
    "ps = PorterStemmer()"
   ]
  },
  {
   "cell_type": "code",
   "execution_count": 647,
   "metadata": {},
   "outputs": [],
   "source": [
    "\n",
    "def get_text_from_file(fname):\n",
    "    \"\"\"\n",
    "    Get text from a text document.\n",
    "    \"\"\"\n",
    "    try:\n",
    "        with open(fname, 'r', encoding='utf-8') as f:\n",
    "            text = f.read()\n",
    "        return text\n",
    "    except Exception as e:\n",
    "        print(f\"Error reading the file: {e}\")\n",
    "        return None\n"
   ]
  },
  {
   "cell_type": "code",
   "execution_count": 648,
   "metadata": {},
   "outputs": [],
   "source": [
    "def remove_string_special_characters(s):\n",
    "    \"\"\"\n",
    "    This function removes special characters from within a string.\n",
    "    parameters: \n",
    "        s(str): single input string.\n",
    "    return: \n",
    "        stripped(str): A string with special characters removed.\n",
    "    \"\"\"\n",
    "\n",
    "    # Replace special character with ' '\n",
    "    stripped = re.sub('[^\\w\\s]', '', s)\n",
    "    stripped = re.sub('_', '', stripped)\n",
    "\n",
    "    # Change any whitespace to one space\n",
    "    stripped = re.sub('\\s+', ' ', stripped)\n",
    "\n",
    "    # Remove start and end white spaces\n",
    "    stripped = stripped.strip()\n",
    "    \n",
    "    return stripped"
   ]
  },
  {
   "cell_type": "code",
   "execution_count": 649,
   "metadata": {},
   "outputs": [],
   "source": [
    "def count_words(text):\n",
    "    \"\"\"This function returns the \n",
    "    total number of words in the input text.\n",
    "    \"\"\"\n",
    "    count = 0\n",
    "    words = word_tokenize(text)\n",
    "    for word in words:\n",
    "        count += 1\n",
    "    return count"
   ]
  },
  {
   "cell_type": "code",
   "execution_count": 650,
   "metadata": {},
   "outputs": [],
   "source": [
    "def get_doc(text_sents_clean):\n",
    "    \"\"\"\n",
    "    this function splits the text into sentences and\n",
    "    considering each sentence as a document, calculates the \n",
    "    total word count of each.\n",
    "    \"\"\"\n",
    "    doc_info = []\n",
    "    i = 0\n",
    "    for sent in text_sents_clean:\n",
    "        i += 1 \n",
    "        count = count_words(sent)\n",
    "        temp = {'doc_id' : i, 'doc_length' : count}\n",
    "        doc_info.append(temp)\n",
    "    return doc_info"
   ]
  },
  {
   "cell_type": "code",
   "execution_count": 651,
   "metadata": {},
   "outputs": [],
   "source": [
    "def create_freq_dict(sents):\n",
    "    \"\"\"\n",
    "    This function creates a frequency dictionary\n",
    "    of each document that contains words other than\n",
    "    stop words.\n",
    "    \"\"\"\n",
    "    i = 0\n",
    "    freqDict_list = []\n",
    "    for sent in sents:\n",
    "        i += 1\n",
    "        freq_dict = {}\n",
    "        words = word_tokenize(sent)\n",
    "        for word in words:\n",
    "            word = word.lower()\n",
    "            word = ps.stem(word)\n",
    "            if word not in stop_words:\n",
    "                if word in freq_dict:\n",
    "                    freq_dict[word] += 1\n",
    "                else:\n",
    "                    freq_dict[word] = 1\n",
    "                temp = {'doc_id' : i, 'freq_dict': freq_dict}\n",
    "        freqDict_list.append(temp)\n",
    "    return freqDict_list"
   ]
  },
  {
   "cell_type": "code",
   "execution_count": 652,
   "metadata": {},
   "outputs": [],
   "source": [
    "def global_frequency(text_sents_clean):\n",
    "    \"\"\"\n",
    "    This function returns a dictionary with the frequency \n",
    "    count of every word in the text\n",
    "    \"\"\"\n",
    "    freq_table = {}\n",
    "    text = ' '.join(text_sents_clean) #join the cleaned sentences to get the text \n",
    "    words = word_tokenize(text)\n",
    "    for word in words:\n",
    "        word = word.lower()\n",
    "        word = ps.stem(word)\n",
    "        if word not in stop_words:\n",
    "            if word in freq_table:\n",
    "                freq_table[word] += 1\n",
    "            else:\n",
    "                freq_table[word] = 1\n",
    "                \n",
    "    return freq_table"
   ]
  },
  {
   "cell_type": "code",
   "execution_count": 653,
   "metadata": {},
   "outputs": [],
   "source": [
    "def get_keywords(text_sents_clean):\n",
    "    \"\"\"\n",
    "    This function gets the top 5 most\n",
    "    frequently occuring words in the whole text\n",
    "    and stores them as keywords\n",
    "    \"\"\"\n",
    "    freq_table = global_frequency(text_sents_clean)\n",
    "    #sort in descending order\n",
    "    freq_table_sorted = sorted(freq_table.items(), key = operator.itemgetter(1), reverse = True) \n",
    "    print(freq_table_sorted)\n",
    "    keywords = []\n",
    "    for i in range(0, 10):  #taking first 5 most frequent words\n",
    "        keywords.append(freq_table_sorted[i][0])\n",
    "    return keywords"
   ]
  },
  {
   "cell_type": "code",
   "execution_count": 654,
   "metadata": {},
   "outputs": [],
   "source": [
    "def computeTF(doc_info, freqDict_list):\n",
    "    \"\"\"\n",
    "    tf = (frequency of the term in the doc/total number of terms in the doc)\n",
    "    \"\"\"\n",
    "    TF_scores = []\n",
    "    \n",
    "    for tempDict in freqDict_list:\n",
    "        id = tempDict['doc_id']\n",
    "        for k in tempDict['freq_dict']:\n",
    "            temp = {'doc_id' : id,\n",
    "                    'TF_score' : tempDict['freq_dict'][k]/doc_info[id-1]['doc_length'],\n",
    "                   'key' : k}\n",
    "            TF_scores.append(temp)\n",
    "    return TF_scores"
   ]
  },
  {
   "cell_type": "code",
   "execution_count": 655,
   "metadata": {},
   "outputs": [],
   "source": [
    "def computeIDF(doc_info, freqDict_list):\n",
    "    \"\"\"\n",
    "    idf = ln(total number of docs/number of docs with term in it)\n",
    "    \"\"\"\n",
    "    \n",
    "    IDF_scores = []\n",
    "    counter = 0\n",
    "    for dict in freqDict_list:\n",
    "        counter += 1\n",
    "        for k in dict['freq_dict'].keys():\n",
    "            count = sum([k in tempDict['freq_dict'] for tempDict in freqDict_list])\n",
    "            temp = {'doc_id' : counter, 'IDF_score' : math.log(len(doc_info)/count), 'key' : k}\n",
    "    \n",
    "            IDF_scores.append(temp)\n",
    "                \n",
    "    return IDF_scores"
   ]
  },
  {
   "cell_type": "markdown",
   "metadata": {},
   "source": [
    "Before computing the word frequency, we must clean the data- remove punctuation \n",
    "and special characters.\n"
   ]
  },
  {
   "cell_type": "code",
   "execution_count": 671,
   "metadata": {},
   "outputs": [
    {
     "name": "stdout",
     "output_type": "stream",
     "text": [
      "[{'doc_id': 1, 'doc_length': 27}, {'doc_id': 2, 'doc_length': 15}, {'doc_id': 3, 'doc_length': 20}, {'doc_id': 4, 'doc_length': 13}, {'doc_id': 5, 'doc_length': 0}, {'doc_id': 6, 'doc_length': 20}, {'doc_id': 7, 'doc_length': 30}, {'doc_id': 8, 'doc_length': 26}, {'doc_id': 9, 'doc_length': 23}]\n"
     ]
    }
   ],
   "source": [
    "\n",
    "text = get_text_from_file('ia.txt')\n",
    "text_sents = sent_tokenize(text)\n",
    "text_sents_clean = [remove_string_special_characters(s) for s in text_sents] #if s.istitle() == False]\n",
    "doc_info = get_doc(text_sents_clean)\n",
    "print(doc_info)"
   ]
  },
  {
   "cell_type": "code",
   "execution_count": 672,
   "metadata": {
    "scrolled": false
   },
   "outputs": [
    {
     "name": "stdout",
     "output_type": "stream",
     "text": [
      "[{'doc_id': 1, 'freq_dict': {'actual': 1, 'sociedad': 1, 'cambiant': 1, 'sector': 1, 'distribución': 1, 'enfrenta': 1, 'numeroso': 1, 'desafío': 1, 'presion': 1, 'competitiva': 1, 'asociada': 1, 'lucha': 1, 'manten': 1, 'márgene': 1, 'ajustado': 1}}, {'doc_id': 2, 'freq_dict': {'tormenta': 1, 'priorizar': 1, 'dond': 1, 'toma': 1, 'gran': 1, 'protagonismo': 1, 'capacidad': 1, 'reacción': 1, 'retail': 1}}, {'doc_id': 3, 'freq_dict': {'pued': 1, 'resultar': 1, 'difícil': 1, 'identificar': 1, 'aquella': 1, 'tecnología': 1, 'proceso': 1, 'contribuirán': 1, 'creación': 1, 'ventaja': 1, 'competitiva': 1, 'distribución': 1}}, {'doc_id': 4, 'freq_dict': {'obstant': 1, 'entr': 1, 'toda': 1, 'tecnología': 1, 'pueden': 1, 'ayudar': 1, 'resolv': 1, 'problema': 1}}, {'doc_id': 4, 'freq_dict': {'obstant': 1, 'entr': 1, 'toda': 1, 'tecnología': 1, 'pueden': 1, 'ayudar': 1, 'resolv': 1, 'problema': 1}}, {'doc_id': 6, 'freq_dict': {'inteligencia': 1, 'artifici': 1, 'obtien': 1, 'mayor': 1, 'impacto': 1, 'competitividad': 1, 'minorista': 1, 'menor': 2, 'tiempo': 1, 'cost': 1}}, {'doc_id': 7, 'freq_dict': {'solver': 1, 'ia': 1, 'somo': 1, 'especialista': 1, 'aplicar': 1, 'proceso': 1, 'negocio': 1, 'desarrollo': 1, 'modelo': 1, 'inteligencia': 1, 'artifici': 1, 'personalizado': 1, 'distribución': 1, 'generando': 1, 'ventaja': 1, 'competitiva': 1, 'mayor': 1, 'margen': 1}}, {'doc_id': 8, 'freq_dict': {'desarrollar': 1, 'modelo': 1, 'avanzado': 1, 'inteligencia': 1, 'artifici': 1, 'ayudamo': 1, 'automatizar': 1, 'proceso': 1, 'decision': 1, 'clave': 1, 'toda': 1, 'cadena': 1, 'valor': 1, 'manera': 1, 'eficient': 1, 'autónoma': 1, 'inteligent': 1}}, {'doc_id': 9, 'freq_dict': {'modelo': 1, 'inteligencia': 1, 'artifici': 1, 'enorm': 1, 'volúmen': 1, 'dato': 1, 'método': 1, 'anterior': 1, 'podían': 1, 'manejar': 1, 'pueden': 1, 'aprend': 1, 'nuevo': 1, 'caso': 1}}]\n",
      "[{'doc_id': 1, 'TF_score': 0.037037037037037035, 'key': 'actual'}, {'doc_id': 1, 'TF_score': 0.037037037037037035, 'key': 'sociedad'}, {'doc_id': 1, 'TF_score': 0.037037037037037035, 'key': 'cambiant'}, {'doc_id': 1, 'TF_score': 0.037037037037037035, 'key': 'sector'}, {'doc_id': 1, 'TF_score': 0.037037037037037035, 'key': 'distribución'}, {'doc_id': 1, 'TF_score': 0.037037037037037035, 'key': 'enfrenta'}, {'doc_id': 1, 'TF_score': 0.037037037037037035, 'key': 'numeroso'}, {'doc_id': 1, 'TF_score': 0.037037037037037035, 'key': 'desafío'}, {'doc_id': 1, 'TF_score': 0.037037037037037035, 'key': 'presion'}, {'doc_id': 1, 'TF_score': 0.037037037037037035, 'key': 'competitiva'}, {'doc_id': 1, 'TF_score': 0.037037037037037035, 'key': 'asociada'}, {'doc_id': 1, 'TF_score': 0.037037037037037035, 'key': 'lucha'}, {'doc_id': 1, 'TF_score': 0.037037037037037035, 'key': 'manten'}, {'doc_id': 1, 'TF_score': 0.037037037037037035, 'key': 'márgene'}, {'doc_id': 1, 'TF_score': 0.037037037037037035, 'key': 'ajustado'}, {'doc_id': 2, 'TF_score': 0.06666666666666667, 'key': 'tormenta'}, {'doc_id': 2, 'TF_score': 0.06666666666666667, 'key': 'priorizar'}, {'doc_id': 2, 'TF_score': 0.06666666666666667, 'key': 'dond'}, {'doc_id': 2, 'TF_score': 0.06666666666666667, 'key': 'toma'}, {'doc_id': 2, 'TF_score': 0.06666666666666667, 'key': 'gran'}, {'doc_id': 2, 'TF_score': 0.06666666666666667, 'key': 'protagonismo'}, {'doc_id': 2, 'TF_score': 0.06666666666666667, 'key': 'capacidad'}, {'doc_id': 2, 'TF_score': 0.06666666666666667, 'key': 'reacción'}, {'doc_id': 2, 'TF_score': 0.06666666666666667, 'key': 'retail'}, {'doc_id': 3, 'TF_score': 0.05, 'key': 'pued'}, {'doc_id': 3, 'TF_score': 0.05, 'key': 'resultar'}, {'doc_id': 3, 'TF_score': 0.05, 'key': 'difícil'}, {'doc_id': 3, 'TF_score': 0.05, 'key': 'identificar'}, {'doc_id': 3, 'TF_score': 0.05, 'key': 'aquella'}, {'doc_id': 3, 'TF_score': 0.05, 'key': 'tecnología'}, {'doc_id': 3, 'TF_score': 0.05, 'key': 'proceso'}, {'doc_id': 3, 'TF_score': 0.05, 'key': 'contribuirán'}, {'doc_id': 3, 'TF_score': 0.05, 'key': 'creación'}, {'doc_id': 3, 'TF_score': 0.05, 'key': 'ventaja'}, {'doc_id': 3, 'TF_score': 0.05, 'key': 'competitiva'}, {'doc_id': 3, 'TF_score': 0.05, 'key': 'distribución'}, {'doc_id': 4, 'TF_score': 0.07692307692307693, 'key': 'obstant'}, {'doc_id': 4, 'TF_score': 0.07692307692307693, 'key': 'entr'}, {'doc_id': 4, 'TF_score': 0.07692307692307693, 'key': 'toda'}, {'doc_id': 4, 'TF_score': 0.07692307692307693, 'key': 'tecnología'}, {'doc_id': 4, 'TF_score': 0.07692307692307693, 'key': 'pueden'}, {'doc_id': 4, 'TF_score': 0.07692307692307693, 'key': 'ayudar'}, {'doc_id': 4, 'TF_score': 0.07692307692307693, 'key': 'resolv'}, {'doc_id': 4, 'TF_score': 0.07692307692307693, 'key': 'problema'}, {'doc_id': 4, 'TF_score': 0.07692307692307693, 'key': 'obstant'}, {'doc_id': 4, 'TF_score': 0.07692307692307693, 'key': 'entr'}, {'doc_id': 4, 'TF_score': 0.07692307692307693, 'key': 'toda'}, {'doc_id': 4, 'TF_score': 0.07692307692307693, 'key': 'tecnología'}, {'doc_id': 4, 'TF_score': 0.07692307692307693, 'key': 'pueden'}, {'doc_id': 4, 'TF_score': 0.07692307692307693, 'key': 'ayudar'}, {'doc_id': 4, 'TF_score': 0.07692307692307693, 'key': 'resolv'}, {'doc_id': 4, 'TF_score': 0.07692307692307693, 'key': 'problema'}, {'doc_id': 6, 'TF_score': 0.05, 'key': 'inteligencia'}, {'doc_id': 6, 'TF_score': 0.05, 'key': 'artifici'}, {'doc_id': 6, 'TF_score': 0.05, 'key': 'obtien'}, {'doc_id': 6, 'TF_score': 0.05, 'key': 'mayor'}, {'doc_id': 6, 'TF_score': 0.05, 'key': 'impacto'}, {'doc_id': 6, 'TF_score': 0.05, 'key': 'competitividad'}, {'doc_id': 6, 'TF_score': 0.05, 'key': 'minorista'}, {'doc_id': 6, 'TF_score': 0.1, 'key': 'menor'}, {'doc_id': 6, 'TF_score': 0.05, 'key': 'tiempo'}, {'doc_id': 6, 'TF_score': 0.05, 'key': 'cost'}, {'doc_id': 7, 'TF_score': 0.03333333333333333, 'key': 'solver'}, {'doc_id': 7, 'TF_score': 0.03333333333333333, 'key': 'ia'}, {'doc_id': 7, 'TF_score': 0.03333333333333333, 'key': 'somo'}, {'doc_id': 7, 'TF_score': 0.03333333333333333, 'key': 'especialista'}, {'doc_id': 7, 'TF_score': 0.03333333333333333, 'key': 'aplicar'}, {'doc_id': 7, 'TF_score': 0.03333333333333333, 'key': 'proceso'}, {'doc_id': 7, 'TF_score': 0.03333333333333333, 'key': 'negocio'}, {'doc_id': 7, 'TF_score': 0.03333333333333333, 'key': 'desarrollo'}, {'doc_id': 7, 'TF_score': 0.03333333333333333, 'key': 'modelo'}, {'doc_id': 7, 'TF_score': 0.03333333333333333, 'key': 'inteligencia'}, {'doc_id': 7, 'TF_score': 0.03333333333333333, 'key': 'artifici'}, {'doc_id': 7, 'TF_score': 0.03333333333333333, 'key': 'personalizado'}, {'doc_id': 7, 'TF_score': 0.03333333333333333, 'key': 'distribución'}, {'doc_id': 7, 'TF_score': 0.03333333333333333, 'key': 'generando'}, {'doc_id': 7, 'TF_score': 0.03333333333333333, 'key': 'ventaja'}, {'doc_id': 7, 'TF_score': 0.03333333333333333, 'key': 'competitiva'}, {'doc_id': 7, 'TF_score': 0.03333333333333333, 'key': 'mayor'}, {'doc_id': 7, 'TF_score': 0.03333333333333333, 'key': 'margen'}, {'doc_id': 8, 'TF_score': 0.038461538461538464, 'key': 'desarrollar'}, {'doc_id': 8, 'TF_score': 0.038461538461538464, 'key': 'modelo'}, {'doc_id': 8, 'TF_score': 0.038461538461538464, 'key': 'avanzado'}, {'doc_id': 8, 'TF_score': 0.038461538461538464, 'key': 'inteligencia'}, {'doc_id': 8, 'TF_score': 0.038461538461538464, 'key': 'artifici'}, {'doc_id': 8, 'TF_score': 0.038461538461538464, 'key': 'ayudamo'}, {'doc_id': 8, 'TF_score': 0.038461538461538464, 'key': 'automatizar'}, {'doc_id': 8, 'TF_score': 0.038461538461538464, 'key': 'proceso'}, {'doc_id': 8, 'TF_score': 0.038461538461538464, 'key': 'decision'}, {'doc_id': 8, 'TF_score': 0.038461538461538464, 'key': 'clave'}, {'doc_id': 8, 'TF_score': 0.038461538461538464, 'key': 'toda'}, {'doc_id': 8, 'TF_score': 0.038461538461538464, 'key': 'cadena'}, {'doc_id': 8, 'TF_score': 0.038461538461538464, 'key': 'valor'}, {'doc_id': 8, 'TF_score': 0.038461538461538464, 'key': 'manera'}, {'doc_id': 8, 'TF_score': 0.038461538461538464, 'key': 'eficient'}, {'doc_id': 8, 'TF_score': 0.038461538461538464, 'key': 'autónoma'}, {'doc_id': 8, 'TF_score': 0.038461538461538464, 'key': 'inteligent'}, {'doc_id': 9, 'TF_score': 0.043478260869565216, 'key': 'modelo'}, {'doc_id': 9, 'TF_score': 0.043478260869565216, 'key': 'inteligencia'}, {'doc_id': 9, 'TF_score': 0.043478260869565216, 'key': 'artifici'}, {'doc_id': 9, 'TF_score': 0.043478260869565216, 'key': 'enorm'}, {'doc_id': 9, 'TF_score': 0.043478260869565216, 'key': 'volúmen'}, {'doc_id': 9, 'TF_score': 0.043478260869565216, 'key': 'dato'}, {'doc_id': 9, 'TF_score': 0.043478260869565216, 'key': 'método'}, {'doc_id': 9, 'TF_score': 0.043478260869565216, 'key': 'anterior'}, {'doc_id': 9, 'TF_score': 0.043478260869565216, 'key': 'podían'}, {'doc_id': 9, 'TF_score': 0.043478260869565216, 'key': 'manejar'}, {'doc_id': 9, 'TF_score': 0.043478260869565216, 'key': 'pueden'}, {'doc_id': 9, 'TF_score': 0.043478260869565216, 'key': 'aprend'}, {'doc_id': 9, 'TF_score': 0.043478260869565216, 'key': 'nuevo'}, {'doc_id': 9, 'TF_score': 0.043478260869565216, 'key': 'caso'}]\n"
     ]
    }
   ],
   "source": [
    "freqDict_list = create_freq_dict(text_sents_clean)\n",
    "print(freqDict_list)\n",
    "TF_scores = computeTF(doc_info, freqDict_list)\n",
    "print(TF_scores)\n",
    "IDF_scores = computeIDF(doc_info, freqDict_list)"
   ]
  },
  {
   "cell_type": "code",
   "execution_count": 658,
   "metadata": {},
   "outputs": [],
   "source": [
    "def computeTFIDF(TF_scores, IDF_scores):\n",
    "    \"\"\"\n",
    "    TFIDF is computed by multiplying the coressponding\n",
    "    TF and IDF values of each term. \n",
    "    \"\"\"\n",
    "    TFIDF_scores = []\n",
    "    for j in IDF_scores:\n",
    "        for i in TF_scores:\n",
    "            if j['key'] == i['key'] and j['doc_id'] == i['doc_id']:\n",
    "                temp = {'doc_id' : i['doc_id'],\n",
    "                        'TFIDF_score' : j['IDF_score']*i['TF_score'],\n",
    "                       'key' : i['key']}\n",
    "        TFIDF_scores.append(temp)\n",
    "    return TFIDF_scores"
   ]
  },
  {
   "cell_type": "code",
   "execution_count": 659,
   "metadata": {
    "scrolled": true
   },
   "outputs": [],
   "source": [
    "TFIDF_scores = computeTFIDF(TF_scores, IDF_scores)"
   ]
  },
  {
   "cell_type": "code",
   "execution_count": 660,
   "metadata": {},
   "outputs": [],
   "source": [
    "def weigh_keywords(TFIDF_scores):\n",
    "    \"\"\"\n",
    "    This function doubles the TFIDF score\n",
    "    of the words that are keywords\n",
    "    \"\"\"\n",
    "    keywords = get_keywords(text_sents_clean)\n",
    "    for temp_dict in TFIDF_scores:\n",
    "        if temp_dict['key'] in keywords:\n",
    "            temp_dict['TFIDF_score'] *= 2\n",
    "    return TFIDF_scores"
   ]
  },
  {
   "cell_type": "code",
   "execution_count": 661,
   "metadata": {},
   "outputs": [
    {
     "name": "stdout",
     "output_type": "stream",
     "text": [
      "[('ia', 39), ('inteligencia', 13), ('símbolo', 13), ('gener', 12), ('inteligent', 10), ('sistema', 10), ('fuert', 9), ('modelo', 9), ('hipótesi', 9), ('débil', 8), ('ordenador', 8), ('ajedrez', 8), ('est', 7), ('específica', 7), ('ejemplo', 7), ('físico', 7), ('jugar', 7), ('objetivo', 6), ('tipo', 6), ('humano', 6), ('mediant', 6), ('ser', 6), ('caso', 6), ('sobr', 5), ('máquina', 5), ('hecho', 5), ('humana', 5), ('sere', 5), ('ssf', 5), ('decir', 5), ('programa', 5), ('relacionado', 4), ('último', 4), ('má', 4), ('origen', 4), ('newel', 4), ('simon', 4), ('dama', 4), ('capacidad', 4), ('searl', 4), ('entorno', 4), ('real', 4), ('artifici', 3), ('entr', 3), ('aspecto', 3), ('conocimiento', 3), ('ambicioso', 3), ('construir', 3), ('grand', 3), ('dificultad', 3), ('similar', 3), ('científico', 3), ('conoc', 3), ('estructura', 3), ('siglo', 3), ('si', 3), ('actualment', 3), ('artículo', 3), ('motivo', 3), ('ture', 3), ('1975', 3), ('cabo', 3), ('acuerdo', 3), ('pueden', 3), ('proceso', 3), ('distinto', 3), ('sustrato', 3), ('verificar', 3), ('tener', 3), ('pued', 3), ('pionero', 3), ('incluso', 3), ('sigu', 3), ('ment', 3), ('demostrar', 3), ('problema', 3), ('simbólica', 3), ('primero', 3), ('hacia', 2), ('artificial', 2), ('distinción', 2), ('así', 2), ('toda', 2), ('manifestacion', 2), ('principal', 2), ('importancia', 2), ('clave', 2), ('naturaleza', 2), ('necesidad', 2), ('posibl', 2), ('comentan', 2), ('siendo', 2), ('lograr', 2), ('planteado', 2), ('ciencia', 2), ('compar', 2), ('explicar', 2), ('vida', 2), ('universo', 2), ('materia', 2), ('metáfora', 2), ('cerebro', 2), ('do', 2), ('dominant', 2), ('basado', 2), ('consiguient', 2), ('según', 2), ('part', 2), ('somo', 2), ('conducta', 2), ('convien', 2), ('aclarar', 2), ('conjunto', 2), ('relacion', 2), ('formando', 2), ('igual', 2), ('etcétera', 2), ('circuito', 2), ('electrónico', 2), ('digital', 2), ('rede', 2), ('cualquier', 2), ('campo', 2), ('convenientement', 2), ('capaz', 2), ('important', 2), ('debería', 2), ('exhibir', 2), ('juegan', 2), ('juego', 2), ('sencillo', 2), ('mismo', 2), ('aprovechar', 2), ('aunqu', 2), ('idea', 2), ('año', 2), ('1980', 2), ('mucha', 2), ('obviament', 2), ('mental', 2), ('tarea', 2), ('avanc', 2), ('lógica', 2), ('toma', 2), ('decision', 2), ('simbólico', 2), ('razonamiento', 2), ('situado', 2), ('mundo', 2), ('lenguaj', 2), ('representación', 2), ('principalment', 2), ('requieren', 2), ('teorema', 2), ('pieza', 2), ('robot', 2), ('futuro', 1), ('realment', 1), ('ramón', 1), ('lópez', 1), ('mántara', 1), ('instituto', 1), ('investigación', 1), ('iiia', 1), ('bellaterra', 1), ('españa', 1), ('capítulo', 1), ('contien', 1), ('alguna', 1), ('reflexion', 1), ('primer', 1), ('lugar', 1), ('explica', 1), ('concepto', 1), ('dejando', 1), ('claro', 1), ('existent', 1), ('débile', 1), ('describen', 1), ('brevement', 1), ('insistiendo', 1), ('corporalidad', 1), ('conseguir', 1), ('continuación', 1), ('aborda', 1), ('proporcionar', 1), ('común', 1), ('hagan', 1), ('avanzar', 1), ('última', 1), ('tendencia', 1), ('basada', 1), ('análisi', 1), ('cantidad', 1), ('dato', 1), ('progreso', 1), ('espectacular', 1), ('época', 1), ('recient', 1), ('alusión', 1), ('present', 1), ('hoy', 1), ('enfoqu', 1), ('cuestion', 1), ('continuarán', 1), ('ant', 1), ('cerrar', 1), ('breve', 1), ('reflexión', 1), ('riesgo', 1), ('largo', 1), ('afán', 1), ('conducido', 1), ('inventar', 1), ('xvii', 1), ('descart', 1), ('preguntó', 1), ('complejo', 1), ('mecánico', 1), ('compuesto', 1), ('engranaj', 1), ('polea', 1), ('tubo', 1), ('podría', 1), ('principio', 1), ('emular', 1), ('pensamiento', 1), ('despué', 1), ('telefónico', 1), ('parecía', 1), ('conexion', 1), ('podían', 1), ('asimilar', 1), ('red', 1), ('neuron', 1), ('computacion', 1), ('digit', 1), ('contempla', 1), ('versu', 1), ('ponencia', 1), ('recepción', 1), ('prestigioso', 1), ('premio', 1), ('allen', 1), ('herbert', 1), ('formularon', 1), ('pose', 1), ('medio', 1), ('necesario', 1), ('suficient', 1), ('llevar', 1), ('accion', 1), ('dado', 1), ('capac', 1), ('mostrar', 1), ('entonc', 1), ('nosotro', 1), ('refieren', 1), ('hablan', 1), ('consist', 1), ('entidad', 1), ('denominada', 1), ('combinado', 1), ('átomo', 1), ('combinan', 1), ('molécula', 1), ('transformado', 1), ('aplicando', 1), ('generar', 1), ('nuevo', 1), ('crear', 1), ('modificar', 1), ('almacenar', 1), ('comparar', 1), ('físicoelectrónico', 1), ('físicobiológico', 1), ('efectivament', 1), ('realizan', 1), ('neurona', 1), ('definitiva', 1), ('neuronal', 1), ('carec', 1), ('siempr', 1), ('dicho', 1), ('permita', 1), ('procesar', 1), ('olvidemo', 1), ('trata', 1), ('debe', 1), ('aceptada', 1), ('rechazada', 1), ('priori', 1), ('validez', 1), ('refutación', 1), ('deberá', 1), ('método', 1), ('ensayo', 1), ('experimental', 1), ('precisament', 1), ('dedicado', 1), ('intentar', 1), ('contexto', 1), ('programado', 1), ('matiz', 1), ('tratars', 1), ('cosa', 1), ('bien', 1), ('distinta', 1), ('nivel', 1), ('gran', 1), ('maestro', 1), ('incapac', 1), ('pesar', 1), ('requier', 1), ('diseñar', 1), ('ejecutar', 1), ('independient', 1), ('permit', 1), ('juegu', 1), ('adaptarla', 1), ('jugador', 1), ('cuestión', 1), ('minuto', 1), ('perfectament', 1), ('diseño', 1), ('realización', 1), ('únicament', 1), ('muestran', 1), ('comportamiento', 1), ('ámbito', 1), ('específico', 1), ('contraposición', 1), ('referían', 1), ('padr', 1), ('fundador', 1), ('estrictament', 1), ('formuló', 1), ('implícita', 1), ('cincuenta', 1), ('alan', 1), ('escrito', 1), ('1948', 1), ('1950', 1), ('introdujo', 1), ('filósofo', 1), ('john', 1), ('crítico', 1), ('publicado', 1), ('provocó', 1), ('provocando', 1), ('polémica', 1), ('implicaría', 1), ('diseñado', 1), ('simula', 1), ('sino', 1), ('superior', 1), ('intenta', 1), ('impos', 1), ('punto', 1), ('exist', 1), ('conexión', 1), ('solament', 1), ('necesariament', 1), ('haber', 1), ('general', 1), ('multitarea', 1), ('emulen', 1), ('experimentar', 1), ('lado', 1), ('consistiría', 1), ('realicen', 1), ('realizar', 1), ('mejor', 1), ('persona', 1), ('demostrado', 1), ('ampliament', 1), ('cierto', 1), ('dominio', 1), ('superan', 1), ('pericia', 1), ('buscar', 1), ('solucion', 1), ('formula', 1), ('variabl', 1), ('go', 1), ('diagnóstico', 1), ('médico', 1), ('asocia', 1), ('formular', 1), ('probar', 1), ('acerca', 1), ('razonar', 1), ('deductivament', 1), ('aprend', 1), ('inductivament', 1), ('construcción', 1), ('llevan', 1), ('dicha', 1), ('funcion', 1), ('completament', 1), ('lleva', 1), ('absolutament', 1), ('logrado', 1), ('ahora', 1), ('conexionista', 1), ('evolutivo', 1), ('corpóreo', 1), ('sido', 1), ('tien', 1), ('raíc', 1), ('considera', 1), ('clásico', 1), ('denominado', 1), ('acrónimo', 1), ('gofai', 1), ('good', 1), ('old', 1), ('fashion', 1), ('ai', 1), ('topdown', 1), ('basa', 1), ('lógico', 1), ('búsqueda', 1), ('heurística', 1), ('pilar', 1), ('resolución', 1), ('necesit', 1), ('formar', 1), ('cuerpo', 1), ('opera', 1), ('representacion', 1), ('abstracta', 1), ('modelan', 1), ('matemática', 1), ('extension', 1), ('resolvían', 1), ('interactuar', 1), ('directament', 1), ('matemático', 1), ('necesitan', 1), ('percepción', 1), ('visual', 1), ('ver', 1), ('tablero', 1), ('actuador', 1), ('mover', 1), ('ello', 1), ('significa', 1), ('pueda', 1), ('usada', 1), ('programar', 1), ('módulo', 1), ('disponían', 1), ('programación', 1), ('permitieran', 1), ('hacerlo', 1), ('forma', 1), ('eficient', 1), ('limitaron', 1), ('resolv', 1), ('requerían', 1), ('interacción', 1), ('directa', 1), ('usando', 1), ('aplicacion', 1), ('percibir', 1), ('actuar', 1), ('aprendizaj', 1), ('autónomo', 1)]\n"
     ]
    }
   ],
   "source": [
    "TFIDF_scores = weigh_keywords(TFIDF_scores)"
   ]
  },
  {
   "cell_type": "code",
   "execution_count": 662,
   "metadata": {},
   "outputs": [],
   "source": [
    "def get_sent_score(TFIDF_scores, text_sents, doc_info):\n",
    "    \"\"\"\n",
    "    This function prints out the summary and returns the \n",
    "    score of each sentence in a list.\n",
    "    \n",
    "    The score of a sentence is calculated by adding the TFIDF\n",
    "    scores of the words that make up the sentence.\n",
    "    \"\"\"\n",
    "    sentence_info = []\n",
    "    for doc in doc_info:\n",
    "        \"\"\"\n",
    "        This loops through each document(sentence)\n",
    "        and calculates their 'sent_score'\n",
    "        \"\"\"\n",
    "        sent_score = 0\n",
    "        for i in range(0, len(TFIDF_scores)):\n",
    "            temp_dict = TFIDF_scores[i]\n",
    "            if doc['doc_id'] == temp_dict['doc_id']:\n",
    "                sent_score += temp_dict['TFIDF_score']\n",
    "        temp = {'doc_id' : doc['doc_id'], 'sent_score' : sent_score,\n",
    "                'sentence' : text_sents[doc['doc_id']-1]}\n",
    "        sentence_info.append(temp)\n",
    "    print(sentence_info)\n",
    "    return sentence_info"
   ]
  },
  {
   "cell_type": "code",
   "execution_count": 663,
   "metadata": {
    "scrolled": false
   },
   "outputs": [
    {
     "name": "stdout",
     "output_type": "stream",
     "text": [
      "[{'doc_id': 1, 'sent_score': 2.730919029803735, 'sentence': 'El futuro de la IA: hacia inteligencias artificiales realmente inteligentes\\nRamón López de Mántaras\\nInstituto de Investigación en Inteligencia Artificial (IIIA), Bellaterra, España\\nEste capítulo contiene algunas reflexiones sobre inteligencia artificial (IA).'}, {'doc_id': 2, 'sent_score': 1.828606444750739, 'sentence': 'En primer lugar, se explica la distinción entre la IA fuerte y la débil, así como los conceptos relacionados de IA general y específica, dejando claro que todas las manifestaciones existentes de IA son débiles y específicas.'}, {'doc_id': 3, 'sent_score': 1.899697459059781, 'sentence': 'Se describen brevemente los principales modelos, insistiendo en la importancia de la corporalidad como aspecto clave para conseguir una IA de naturaleza general.'}, {'doc_id': 4, 'sent_score': 1.8221646140827097, 'sentence': 'A continuación se aborda la necesidad de proporcionar a las máquinas conocimientos de sentido común que hagan posible avanzar hacia el ambicioso objetivo de construir IA de tipo general.'}, {'doc_id': 5, 'sent_score': 1.738695703745567, 'sentence': 'También se comentan las últimas tendencias en IA basadas en el análisis de grandes cantidades de datos que han hecho posibles progresos espectaculares en épocas muy recientes, con una alusión a las dificultades presentes hoy en los enfoques de la IA.'}, {'doc_id': 6, 'sent_score': 1.7062752359093611, 'sentence': 'Por último, se comentan otras cuestiones que son y continuarán siendo clave en la IA, antes de cerrar con una breve reflexión sobre los riesgos de la inteligencia artificial.'}, {'doc_id': 7, 'sent_score': 1.2086907772269655, 'sentence': 'El objetivo último de la IA, lograr que una máquina tenga una inteligencia de tipo general similar a la humana, es uno de los objetivos más ambiciosos que se ha planteado la ciencia.'}, {'doc_id': 8, 'sent_score': 1.3879384931092174, 'sentence': 'Por su dificultad, es comparable a otros grandes objetivos científicos como explicar el origen de la vida, el origen del universo o conocer la estructura de la materia.'}, {'doc_id': 9, 'sent_score': 1.8234797839596815, 'sentence': 'A lo largo de los últimos siglos, este afán por construir máquinas inteligentes nos ha conducido a inventar modelos o metáforas del cerebro humano.'}, {'doc_id': 10, 'sent_score': 2.3750287521630797, 'sentence': 'Por ejemplo, en el siglo XVII, Descartes se preguntó si un complejo sistema mecánico compuesto de engranajes, poleas y tubos podría, en principio, emular el pensamiento.'}, {'doc_id': 11, 'sent_score': 1.997721551922294, 'sentence': 'Dos siglos después, la metáfora fueron los sistemas telefónicos ya que parecía que sus conexiones se podían asimilar a una red neuronal.'}, {'doc_id': 12, 'sent_score': 1.7340032614910004, 'sentence': 'Actualmente el modelo dominante es el modelo computacional basado en el ordenador digital y, por consiguiente, es el modelo que se contempla en este artículo.'}, {'doc_id': 13, 'sent_score': 2.1151266276944427, 'sentence': 'LA HIPÓTESIS DEL SISTEMA DE SÍMBOLOS FÍSICOS: IA DÉBIL VERSUS IA FUERTE\\nEn una ponencia, con motivo de la recepción del prestigioso Premio Turing en 1975, Allen Newell y Herbert Simon (Newell y Simon, 1975) formularon la hipótesis del Sistema de Símbolos Físicos según la cual «todo sistema de símbolos físicos posee los medios necesarios y suficientes para llevar a cabo acciones inteligentes».'}, {'doc_id': 14, 'sent_score': 1.946107590019515, 'sentence': 'Por otra parte, dado que los seres humanos somos capaces de mostrar conductas inteligentes en el sentido general, entonces, de acuerdo con la hipótesis, nosotros somos también sistemas de símbolos físicos.'}, {'doc_id': 15, 'sent_score': 1.8577460380755217, 'sentence': 'Conviene aclarar a que se refieren Newell y Simon cuando hablan de Sistema de Símbolos Físicos (SSF).'}, {'doc_id': 16, 'sent_score': 2.2119016789550097, 'sentence': 'Un SSF consiste en un conjunto de entidades denominadas símbolos que, mediante relaciones, pueden ser combinados formando estructuras más grandes —como los átomos que se combinan formando moléculas— y que pueden ser transformados aplicando un conjunto de procesos.'}, {'doc_id': 17, 'sent_score': 2.826789107201459, 'sentence': 'Estos procesos pueden generar nuevos símbolos, crear y modificar relaciones entre símbolos, almacenar símbolos, comparar si dos símbolos son iguales o distintos, etcétera.'}, {'doc_id': 18, 'sent_score': 1.085725340380997, 'sentence': 'Estos símbolos son físicos en tanto que tienen un sustrato físico-electrónico (en el caso de los ordenadores) o físico-biológico (en el caso de los seres humanos).'}, {'doc_id': 19, 'sent_score': 1.6461247403323536, 'sentence': 'Efectivamente, en el caso de los ordenadores, los símbolos se realizan mediante circuitos electrónicos digitales y en el caso de los seres humanos mediante redes de neuronas.'}, {'doc_id': 20, 'sent_score': 2.2128056903739775, 'sentence': 'En definitiva, de acuerdo con la hipótesis SSF, la naturaleza del sustrato (circuitos electrónicos o redes neuronales) carece de importancia siempre y cuando dicho sustrato permita procesar símbolos.'}, {'doc_id': 21, 'sent_score': 1.329911894872812, 'sentence': 'No olvidemos que se trata de una hipótesis y, por lo tanto, no debe de ser ni aceptada ni rechazada a priori.'}, {'doc_id': 22, 'sent_score': 1.9915899989284678, 'sentence': 'En cualquier caso, su validez o refutación se deberá verificar de acuerdo con el método científico, con ensayos experimentales.'}, {'doc_id': 23, 'sent_score': 1.7989310722056289, 'sentence': 'La IA es precisamente el campo científico dedicado a intentar verificar esta hipótesis en el contexto de los ordenadores digitales, es decir, verificar si un ordenador convenientemente programado es capaz o no de tener conducta inteligente de tipo general.'}, {'doc_id': 24, 'sent_score': 1.391759026374337, 'sentence': 'Es importante el matiz de que debería tratarse de inteligencia de tipo general y no una inteligencia específica ya que la inteligencia de los seres humanos es de tipo general.'}, {'doc_id': 25, 'sent_score': 2.5454232852892433, 'sentence': 'Exhibir inteligencia específica es otra cosa bien distinta.'}, {'doc_id': 26, 'sent_score': 1.5334023426105388, 'sentence': 'Por ejemplo, los programas que juegan al ajedrez a nivel de Gran Maestro son incapaces de jugar a las damas a pesar de ser un juego mucho más sencillo.'}, {'doc_id': 27, 'sent_score': 1.480312655018154, 'sentence': 'Se requiere diseñar y ejecutar un programa distinto e independiente del que le permite jugar al ajedrez para que el mismo ordenador juegue también a las damas.'}, {'doc_id': 28, 'sent_score': 1.2524764431874504, 'sentence': 'Es decir, que no puede aprovechar su capacidad para jugar al ajedrez para adaptarla a las damas.'}, {'doc_id': 29, 'sent_score': 1.5135881647915677, 'sentence': 'En el caso de los seres humanos no es así ya que cualquier jugador de ajedrez puede aprovechar sus conocimientos sobre este juego para, en cuestión de pocos minutos, jugar a las damas perfectamente.'}, {'doc_id': 30, 'sent_score': 1.535914963716048, 'sentence': 'El diseño y realización de inteligencias artificiales que únicamente muestran comportamiento inteligente en un ámbito muy específico, está relacionado con lo que se conoce por IA débil en contraposición con la IA fuerte a la que, de hecho, se referían Newell y Simon y otros padres fundadores de la IA.'}, {'doc_id': 31, 'sent_score': 1.8376731491559577, 'sentence': 'Aunque estrictamente la hipótesis SSF se formuló en 1975, ya estaba implícita en las ideas de los pioneros de la IA en los años cincuenta e incluso en las ideas de Alan Turing en sus escritos pioneros (Turing, 1948, 1950) sobre máquinas inteligentes.'}, {'doc_id': 32, 'sent_score': 1.2086907772269655, 'sentence': 'El objetivo último de la IA, lograr que una máquina tenga una inteligencia de tipo general similar a la humana, es uno de los objetivos más ambiciosos que se ha planteado la ciencia.'}, {'doc_id': 33, 'sent_score': 1.782791699655041, 'sentence': 'Por su dificultad, es comparable a explicar el origen de la vida, el origen del universo o conocer la estructura de la materia\\n\\nQuien introdujo esta distinción entre IA débil y fuerte fue el filósofo John Searle en un artículo crítico con la IA publicado en 1980 (Searle, 1980) que provocó, y sigue provocando, mucha polémica.'}, {'doc_id': 34, 'sent_score': 1.7779514493511426, 'sentence': 'La IA fuerte implicaría que un ordenador convenientemente diseñado no simula una mente sino que es una mente y por consiguiente debería ser capaz de tener una inteligencia igual o incluso superior a la humana.'}, {'doc_id': 35, 'sent_score': 1.7546224714657226, 'sentence': 'Searle en su artículo &&&& intenta demostrar que la IA fuerte es imposible.'}, {'doc_id': 36, 'sent_score': 1.6514581842179539, 'sentence': 'En este punto conviene aclarar que no es lo mismo IA general que IA fuerte.'}, {'doc_id': 37, 'sent_score': 1.7603615680175955, 'sentence': 'Existe obviamente una conexión pero solamente en un sentido, es decir que toda IA fuerte será necesariamente general pero puede haber IA generales, es decir multitarea, que no sean fuertes, que emulen la capacidad de exhibir inteligencia general similar a la humana pero sin experimentar estados mentales.'}, {'doc_id': 38, 'sent_score': 1.8884624482504917, 'sentence': 'La IA débil, por otro lado, consistiría, según Searle, en construir programas que realicen tareas específicas y, obviamente sin necesidad de tener estados mentales.'}, {'doc_id': 39, 'sent_score': 1.6843410280249973, 'sentence': 'La capacidad $$$ de los ordenadores para realizar tareas específicas, incluso mejor que las personas, ya se ha demostrado ampliamente.'}, {'doc_id': 40, 'sent_score': 1.6407327804103373, 'sentence': 'En ciertos dominios, los avances de la IA débil superan en mucho %%%% la pericia humana, como por ejemplo buscar soluciones a formulas lógicas con muchas variables o jugar al ajedrez, o al Go, o en diagnóstico médico y muchos otros aspectos relacionados con la toma de decisiones.'}, {'doc_id': 41, 'sent_score': 1.879068212657073, 'sentence': 'También se asocia con la IA débil el hecho de /// formular y probar hipótesis acerca de aspectos relacionados con la mente (por ejemplo la capacidad de razonar deductivamente, de aprender inductivamente, etcétera) mediante la construcción de programas que llevan a cabo dichas funciones aunque sea mediante procesos completamente distintos a los que lleva a cabo el cerebro.'}, {'doc_id': 42, 'sent_score': 1.4765596814542328, 'sentence': 'Absolutamente todos los avances logrados hasta ahora en el campo de la IA son manifestaciones de IA débil y específica.'}, {'doc_id': 43, 'sent_score': 2.0138587731263464, 'sentence': 'LOS PRINCIPALES MODELOS EN IA: SIMBÓLICO, CONEXIONISTA, EVOLUTIVO Y CORPÓREO\\nEl modelo dominante en IA ha sido el simbólico, que tiene sus raíces en la hipótesis SSF.'}, {'doc_id': 44, 'sent_score': 2.1061575577154614, 'sentence': 'De hecho, sigue siendo muy importante y actualmente se considera el modelo clásico en IA (también denominado por el acrónimo GOFAI, de Good Old Fashioned AI).'}, {'doc_id': 45, 'sent_score': 1.6902378467623496, 'sentence': 'Es un modelo top-down que se basa en el razonamiento lógico y la búsqueda heurística como pilares para la resolución de problemas, sin que el sistema inteligente necesite formar parte de un cuerpo ni estar situado en un entorno real.'}, {'doc_id': 46, 'sent_score': 1.9431384252504516, 'sentence': 'Es decir, la IA simbólica opera con representaciones abstractas del mundo real que se modelan mediante lenguajes de representación basados principalmente en la lógica matemática y sus extensiones.'}, {'doc_id': 47, 'sent_score': 1.8503344724688155, 'sentence': 'Por este motivo, los primeros sistemas inteligentes resolvían principalmente problemas que no requieren interactuar directamente con el entorno como, por ejemplo, demostrar sencillos teoremas matemáticos o jugar al ajedrez —los programas que juegan al ajedrez no necesitan de hecho la percepción visual para ver las piezas en el tablero ni actuadores para mover las piezas—.'}, {'doc_id': 48, 'sent_score': 1.7559371203889382, 'sentence': 'Ello no significa que la IA simbólica no pueda ser usada para, por ejemplo, programar el módulo de razonamiento de un robot físico situado en un entorno real, pero en los primeros años los pioneros de la IA no disponían de lenguajes de representación del conocimiento ni de programación que permitieran hacerlo de forma eficiente y por este motivo los primeros sistemas inteligentes se limitaron a resolver problemas que no requerían interacción directa con el mundo real.'}, {'doc_id': 49, 'sent_score': 1.5602551426049684, 'sentence': 'Actualmente, la IA simbólica se sigue usando para demostrar teoremas o jugar al ajedrez, pero también para aplicaciones que requieren percibir el entorno y actuar sobre él como por ejemplo el aprendizaje y la toma de decisiones en robots autónomos.'}]\n"
     ]
    }
   ],
   "source": [
    "sentence_info = get_sent_score(TFIDF_scores, text_sents, doc_info)"
   ]
  },
  {
   "cell_type": "code",
   "execution_count": 664,
   "metadata": {},
   "outputs": [],
   "source": [
    "def get_summary(sentence_info):\n",
    "    sum = 0\n",
    "    summary = []\n",
    "    array = []\n",
    "    for temp_dict in sentence_info:\n",
    "        \"\"\"\n",
    "        This loop gets the sum of scores\n",
    "        of all the sentences.\n",
    "        \"\"\"\n",
    "        sum += temp_dict['sent_score']\n",
    "    avg = sum/len(sentence_info) #computing the average tf-idf score\n",
    "    for temp_dict in sentence_info:\n",
    "        \"\"\"\n",
    "        This loop gets the sentence scores \n",
    "        and stores them in an array.\n",
    "        \"\"\"\n",
    "        array.append(temp_dict['sent_score'])\n",
    "    stdev = statistics.stdev(array) #computing standard deviation on the array   \n",
    "    for sent in sentence_info:\n",
    "        \"\"\"\n",
    "        This loop is for getting the sumamry by \n",
    "        extracting sentences by an if clause\n",
    "        \"\"\"\n",
    "        if(sent['sent_score']) >= avg: # + 1.5*stdev:\n",
    "            summary.append(sent['sentence'])\n",
    "    summary = '\\n'.join(summary)\n",
    "    return summary"
   ]
  },
  {
   "cell_type": "code",
   "execution_count": 665,
   "metadata": {
    "scrolled": false
   },
   "outputs": [
    {
     "name": "stdout",
     "output_type": "stream",
     "text": [
      "El futuro de la IA: hacia inteligencias artificiales realmente inteligentes\n",
      "Ramón López de Mántaras\n",
      "Instituto de Investigación en Inteligencia Artificial (IIIA), Bellaterra, España\n",
      "Este capítulo contiene algunas reflexiones sobre inteligencia artificial (IA).\n",
      "En primer lugar, se explica la distinción entre la IA fuerte y la débil, así como los conceptos relacionados de IA general y específica, dejando claro que todas las manifestaciones existentes de IA son débiles y específicas.\n",
      "Se describen brevemente los principales modelos, insistiendo en la importancia de la corporalidad como aspecto clave para conseguir una IA de naturaleza general.\n",
      "A continuación se aborda la necesidad de proporcionar a las máquinas conocimientos de sentido común que hagan posible avanzar hacia el ambicioso objetivo de construir IA de tipo general.\n",
      "A lo largo de los últimos siglos, este afán por construir máquinas inteligentes nos ha conducido a inventar modelos o metáforas del cerebro humano.\n",
      "Por ejemplo, en el siglo XVII, Descartes se preguntó si un complejo sistema mecánico compuesto de engranajes, poleas y tubos podría, en principio, emular el pensamiento.\n",
      "Dos siglos después, la metáfora fueron los sistemas telefónicos ya que parecía que sus conexiones se podían asimilar a una red neuronal.\n",
      "LA HIPÓTESIS DEL SISTEMA DE SÍMBOLOS FÍSICOS: IA DÉBIL VERSUS IA FUERTE\n",
      "En una ponencia, con motivo de la recepción del prestigioso Premio Turing en 1975, Allen Newell y Herbert Simon (Newell y Simon, 1975) formularon la hipótesis del Sistema de Símbolos Físicos según la cual «todo sistema de símbolos físicos posee los medios necesarios y suficientes para llevar a cabo acciones inteligentes».\n",
      "Por otra parte, dado que los seres humanos somos capaces de mostrar conductas inteligentes en el sentido general, entonces, de acuerdo con la hipótesis, nosotros somos también sistemas de símbolos físicos.\n",
      "Conviene aclarar a que se refieren Newell y Simon cuando hablan de Sistema de Símbolos Físicos (SSF).\n",
      "Un SSF consiste en un conjunto de entidades denominadas símbolos que, mediante relaciones, pueden ser combinados formando estructuras más grandes —como los átomos que se combinan formando moléculas— y que pueden ser transformados aplicando un conjunto de procesos.\n",
      "Estos procesos pueden generar nuevos símbolos, crear y modificar relaciones entre símbolos, almacenar símbolos, comparar si dos símbolos son iguales o distintos, etcétera.\n",
      "En definitiva, de acuerdo con la hipótesis SSF, la naturaleza del sustrato (circuitos electrónicos o redes neuronales) carece de importancia siempre y cuando dicho sustrato permita procesar símbolos.\n",
      "En cualquier caso, su validez o refutación se deberá verificar de acuerdo con el método científico, con ensayos experimentales.\n",
      "La IA es precisamente el campo científico dedicado a intentar verificar esta hipótesis en el contexto de los ordenadores digitales, es decir, verificar si un ordenador convenientemente programado es capaz o no de tener conducta inteligente de tipo general.\n",
      "Exhibir inteligencia específica es otra cosa bien distinta.\n",
      "Aunque estrictamente la hipótesis SSF se formuló en 1975, ya estaba implícita en las ideas de los pioneros de la IA en los años cincuenta e incluso en las ideas de Alan Turing en sus escritos pioneros (Turing, 1948, 1950) sobre máquinas inteligentes.\n",
      "La IA débil, por otro lado, consistiría, según Searle, en construir programas que realicen tareas específicas y, obviamente sin necesidad de tener estados mentales.\n",
      "También se asocia con la IA débil el hecho de /// formular y probar hipótesis acerca de aspectos relacionados con la mente (por ejemplo la capacidad de razonar deductivamente, de aprender inductivamente, etcétera) mediante la construcción de programas que llevan a cabo dichas funciones aunque sea mediante procesos completamente distintos a los que lleva a cabo el cerebro.\n",
      "LOS PRINCIPALES MODELOS EN IA: SIMBÓLICO, CONEXIONISTA, EVOLUTIVO Y CORPÓREO\n",
      "El modelo dominante en IA ha sido el simbólico, que tiene sus raíces en la hipótesis SSF.\n",
      "De hecho, sigue siendo muy importante y actualmente se considera el modelo clásico en IA (también denominado por el acrónimo GOFAI, de Good Old Fashioned AI).\n",
      "Es decir, la IA simbólica opera con representaciones abstractas del mundo real que se modelan mediante lenguajes de representación basados principalmente en la lógica matemática y sus extensiones.\n",
      "Por este motivo, los primeros sistemas inteligentes resolvían principalmente problemas que no requieren interactuar directamente con el entorno como, por ejemplo, demostrar sencillos teoremas matemáticos o jugar al ajedrez —los programas que juegan al ajedrez no necesitan de hecho la percepción visual para ver las piezas en el tablero ni actuadores para mover las piezas—.\n",
      "9913\n",
      "4763\n"
     ]
    }
   ],
   "source": [
    "summary = get_summary(sentence_info)\n",
    "print(summary)\n",
    "print(len(text))\n",
    "print(len(summary))"
   ]
  },
  {
   "cell_type": "code",
   "execution_count": 666,
   "metadata": {},
   "outputs": [
    {
     "name": "stdout",
     "output_type": "stream",
     "text": [
      "[('ia', 39), ('inteligencia', 13), ('símbolo', 13), ('gener', 12), ('inteligent', 10), ('sistema', 10), ('fuert', 9), ('modelo', 9), ('hipótesi', 9), ('débil', 8), ('ordenador', 8), ('ajedrez', 8), ('est', 7), ('específica', 7), ('ejemplo', 7), ('físico', 7), ('jugar', 7), ('objetivo', 6), ('tipo', 6), ('humano', 6), ('mediant', 6), ('ser', 6), ('caso', 6), ('sobr', 5), ('máquina', 5), ('hecho', 5), ('humana', 5), ('sere', 5), ('ssf', 5), ('decir', 5), ('programa', 5), ('relacionado', 4), ('último', 4), ('má', 4), ('origen', 4), ('newel', 4), ('simon', 4), ('dama', 4), ('capacidad', 4), ('searl', 4), ('entorno', 4), ('real', 4), ('artifici', 3), ('entr', 3), ('aspecto', 3), ('conocimiento', 3), ('ambicioso', 3), ('construir', 3), ('grand', 3), ('dificultad', 3), ('similar', 3), ('científico', 3), ('conoc', 3), ('estructura', 3), ('siglo', 3), ('si', 3), ('actualment', 3), ('artículo', 3), ('motivo', 3), ('ture', 3), ('1975', 3), ('cabo', 3), ('acuerdo', 3), ('pueden', 3), ('proceso', 3), ('distinto', 3), ('sustrato', 3), ('verificar', 3), ('tener', 3), ('pued', 3), ('pionero', 3), ('incluso', 3), ('sigu', 3), ('ment', 3), ('demostrar', 3), ('problema', 3), ('simbólica', 3), ('primero', 3), ('hacia', 2), ('artificial', 2), ('distinción', 2), ('así', 2), ('toda', 2), ('manifestacion', 2), ('principal', 2), ('importancia', 2), ('clave', 2), ('naturaleza', 2), ('necesidad', 2), ('posibl', 2), ('comentan', 2), ('siendo', 2), ('lograr', 2), ('planteado', 2), ('ciencia', 2), ('compar', 2), ('explicar', 2), ('vida', 2), ('universo', 2), ('materia', 2), ('metáfora', 2), ('cerebro', 2), ('do', 2), ('dominant', 2), ('basado', 2), ('consiguient', 2), ('según', 2), ('part', 2), ('somo', 2), ('conducta', 2), ('convien', 2), ('aclarar', 2), ('conjunto', 2), ('relacion', 2), ('formando', 2), ('igual', 2), ('etcétera', 2), ('circuito', 2), ('electrónico', 2), ('digital', 2), ('rede', 2), ('cualquier', 2), ('campo', 2), ('convenientement', 2), ('capaz', 2), ('important', 2), ('debería', 2), ('exhibir', 2), ('juegan', 2), ('juego', 2), ('sencillo', 2), ('mismo', 2), ('aprovechar', 2), ('aunqu', 2), ('idea', 2), ('año', 2), ('1980', 2), ('mucha', 2), ('obviament', 2), ('mental', 2), ('tarea', 2), ('avanc', 2), ('lógica', 2), ('toma', 2), ('decision', 2), ('simbólico', 2), ('razonamiento', 2), ('situado', 2), ('mundo', 2), ('lenguaj', 2), ('representación', 2), ('principalment', 2), ('requieren', 2), ('teorema', 2), ('pieza', 2), ('robot', 2), ('futuro', 1), ('realment', 1), ('ramón', 1), ('lópez', 1), ('mántara', 1), ('instituto', 1), ('investigación', 1), ('iiia', 1), ('bellaterra', 1), ('españa', 1), ('capítulo', 1), ('contien', 1), ('alguna', 1), ('reflexion', 1), ('primer', 1), ('lugar', 1), ('explica', 1), ('concepto', 1), ('dejando', 1), ('claro', 1), ('existent', 1), ('débile', 1), ('describen', 1), ('brevement', 1), ('insistiendo', 1), ('corporalidad', 1), ('conseguir', 1), ('continuación', 1), ('aborda', 1), ('proporcionar', 1), ('común', 1), ('hagan', 1), ('avanzar', 1), ('última', 1), ('tendencia', 1), ('basada', 1), ('análisi', 1), ('cantidad', 1), ('dato', 1), ('progreso', 1), ('espectacular', 1), ('época', 1), ('recient', 1), ('alusión', 1), ('present', 1), ('hoy', 1), ('enfoqu', 1), ('cuestion', 1), ('continuarán', 1), ('ant', 1), ('cerrar', 1), ('breve', 1), ('reflexión', 1), ('riesgo', 1), ('largo', 1), ('afán', 1), ('conducido', 1), ('inventar', 1), ('xvii', 1), ('descart', 1), ('preguntó', 1), ('complejo', 1), ('mecánico', 1), ('compuesto', 1), ('engranaj', 1), ('polea', 1), ('tubo', 1), ('podría', 1), ('principio', 1), ('emular', 1), ('pensamiento', 1), ('despué', 1), ('telefónico', 1), ('parecía', 1), ('conexion', 1), ('podían', 1), ('asimilar', 1), ('red', 1), ('neuron', 1), ('computacion', 1), ('digit', 1), ('contempla', 1), ('versu', 1), ('ponencia', 1), ('recepción', 1), ('prestigioso', 1), ('premio', 1), ('allen', 1), ('herbert', 1), ('formularon', 1), ('pose', 1), ('medio', 1), ('necesario', 1), ('suficient', 1), ('llevar', 1), ('accion', 1), ('dado', 1), ('capac', 1), ('mostrar', 1), ('entonc', 1), ('nosotro', 1), ('refieren', 1), ('hablan', 1), ('consist', 1), ('entidad', 1), ('denominada', 1), ('combinado', 1), ('átomo', 1), ('combinan', 1), ('molécula', 1), ('transformado', 1), ('aplicando', 1), ('generar', 1), ('nuevo', 1), ('crear', 1), ('modificar', 1), ('almacenar', 1), ('comparar', 1), ('físicoelectrónico', 1), ('físicobiológico', 1), ('efectivament', 1), ('realizan', 1), ('neurona', 1), ('definitiva', 1), ('neuronal', 1), ('carec', 1), ('siempr', 1), ('dicho', 1), ('permita', 1), ('procesar', 1), ('olvidemo', 1), ('trata', 1), ('debe', 1), ('aceptada', 1), ('rechazada', 1), ('priori', 1), ('validez', 1), ('refutación', 1), ('deberá', 1), ('método', 1), ('ensayo', 1), ('experimental', 1), ('precisament', 1), ('dedicado', 1), ('intentar', 1), ('contexto', 1), ('programado', 1), ('matiz', 1), ('tratars', 1), ('cosa', 1), ('bien', 1), ('distinta', 1), ('nivel', 1), ('gran', 1), ('maestro', 1), ('incapac', 1), ('pesar', 1), ('requier', 1), ('diseñar', 1), ('ejecutar', 1), ('independient', 1), ('permit', 1), ('juegu', 1), ('adaptarla', 1), ('jugador', 1), ('cuestión', 1), ('minuto', 1), ('perfectament', 1), ('diseño', 1), ('realización', 1), ('únicament', 1), ('muestran', 1), ('comportamiento', 1), ('ámbito', 1), ('específico', 1), ('contraposición', 1), ('referían', 1), ('padr', 1), ('fundador', 1), ('estrictament', 1), ('formuló', 1), ('implícita', 1), ('cincuenta', 1), ('alan', 1), ('escrito', 1), ('1948', 1), ('1950', 1), ('introdujo', 1), ('filósofo', 1), ('john', 1), ('crítico', 1), ('publicado', 1), ('provocó', 1), ('provocando', 1), ('polémica', 1), ('implicaría', 1), ('diseñado', 1), ('simula', 1), ('sino', 1), ('superior', 1), ('intenta', 1), ('impos', 1), ('punto', 1), ('exist', 1), ('conexión', 1), ('solament', 1), ('necesariament', 1), ('haber', 1), ('general', 1), ('multitarea', 1), ('emulen', 1), ('experimentar', 1), ('lado', 1), ('consistiría', 1), ('realicen', 1), ('realizar', 1), ('mejor', 1), ('persona', 1), ('demostrado', 1), ('ampliament', 1), ('cierto', 1), ('dominio', 1), ('superan', 1), ('pericia', 1), ('buscar', 1), ('solucion', 1), ('formula', 1), ('variabl', 1), ('go', 1), ('diagnóstico', 1), ('médico', 1), ('asocia', 1), ('formular', 1), ('probar', 1), ('acerca', 1), ('razonar', 1), ('deductivament', 1), ('aprend', 1), ('inductivament', 1), ('construcción', 1), ('llevan', 1), ('dicha', 1), ('funcion', 1), ('completament', 1), ('lleva', 1), ('absolutament', 1), ('logrado', 1), ('ahora', 1), ('conexionista', 1), ('evolutivo', 1), ('corpóreo', 1), ('sido', 1), ('tien', 1), ('raíc', 1), ('considera', 1), ('clásico', 1), ('denominado', 1), ('acrónimo', 1), ('gofai', 1), ('good', 1), ('old', 1), ('fashion', 1), ('ai', 1), ('topdown', 1), ('basa', 1), ('lógico', 1), ('búsqueda', 1), ('heurística', 1), ('pilar', 1), ('resolución', 1), ('necesit', 1), ('formar', 1), ('cuerpo', 1), ('opera', 1), ('representacion', 1), ('abstracta', 1), ('modelan', 1), ('matemática', 1), ('extension', 1), ('resolvían', 1), ('interactuar', 1), ('directament', 1), ('matemático', 1), ('necesitan', 1), ('percepción', 1), ('visual', 1), ('ver', 1), ('tablero', 1), ('actuador', 1), ('mover', 1), ('ello', 1), ('significa', 1), ('pueda', 1), ('usada', 1), ('programar', 1), ('módulo', 1), ('disponían', 1), ('programación', 1), ('permitieran', 1), ('hacerlo', 1), ('forma', 1), ('eficient', 1), ('limitaron', 1), ('resolv', 1), ('requerían', 1), ('interacción', 1), ('directa', 1), ('usando', 1), ('aplicacion', 1), ('percibir', 1), ('actuar', 1), ('aprendizaj', 1), ('autónomo', 1)]\n",
      "[{'doc_id': 1, 'sent_score': 2.4956430712288284, 'sentence': 'El futuro de la IA: hacia inteligencias artificiales realmente inteligentes\\nRamón López de Mántaras\\nInstituto de Investigación en Inteligencia Artificial (IIIA), Bellaterra, España\\nEste capítulo contiene algunas reflexiones sobre inteligencia artificial (IA).'}, {'doc_id': 2, 'sent_score': 1.673597845962276, 'sentence': 'En primer lugar, se explica la distinción entre la IA fuerte y la débil, así como los conceptos relacionados de IA general y específica, dejando claro que todas las manifestaciones existentes de IA son débiles y específicas.'}, {'doc_id': 3, 'sent_score': 1.584088734171419, 'sentence': 'Se describen brevemente los principales modelos, insistiendo en la importancia de la corporalidad como aspecto clave para conseguir una IA de naturaleza general.'}, {'doc_id': 4, 'sent_score': 1.624449477903227, 'sentence': 'A continuación se aborda la necesidad de proporcionar a las máquinas conocimientos de sentido común que hagan posible avanzar hacia el ambicioso objetivo de construir IA de tipo general.'}, {'doc_id': 5, 'sent_score': 1.542900322423488, 'sentence': 'A lo largo de los últimos siglos, este afán por construir máquinas inteligentes nos ha conducido a inventar modelos o metáforas del cerebro humano.'}, {'doc_id': 6, 'sent_score': 1.9061361570101631, 'sentence': 'Por ejemplo, en el siglo XVII, Descartes se preguntó si un complejo sistema mecánico compuesto de engranajes, poleas y tubos podría, en principio, emular el pensamiento.'}, {'doc_id': 7, 'sent_score': 1.5769545099470383, 'sentence': 'Dos siglos después, la metáfora fueron los sistemas telefónicos ya que parecía que sus conexiones se podían asimilar a una red neuronal.'}, {'doc_id': 8, 'sent_score': 1.7250603264295392, 'sentence': 'LA HIPÓTESIS DEL SISTEMA DE SÍMBOLOS FÍSICOS: IA DÉBIL VERSUS IA FUERTE\\nEn una ponencia, con motivo de la recepción del prestigioso Premio Turing en 1975, Allen Newell y Herbert Simon (Newell y Simon, 1975) formularon la hipótesis del Sistema de Símbolos Físicos según la cual «todo sistema de símbolos físicos posee los medios necesarios y suficientes para llevar a cabo acciones inteligentes».'}, {'doc_id': 9, 'sent_score': 1.6246223783842793, 'sentence': 'Por otra parte, dado que los seres humanos somos capaces de mostrar conductas inteligentes en el sentido general, entonces, de acuerdo con la hipótesis, nosotros somos también sistemas de símbolos físicos.'}, {'doc_id': 10, 'sent_score': 1.5508557736479691, 'sentence': 'Conviene aclarar a que se refieren Newell y Simon cuando hablan de Sistema de Símbolos Físicos (SSF).'}, {'doc_id': 11, 'sent_score': 1.8961375432697791, 'sentence': 'Un SSF consiste en un conjunto de entidades denominadas símbolos que, mediante relaciones, pueden ser combinados formando estructuras más grandes —como los átomos que se combinan formando moléculas— y que pueden ser transformados aplicando un conjunto de procesos.'}, {'doc_id': 12, 'sent_score': 2.2359210239934826, 'sentence': 'Estos procesos pueden generar nuevos símbolos, crear y modificar relaciones entre símbolos, almacenar símbolos, comparar si dos símbolos son iguales o distintos, etcétera.'}, {'doc_id': 13, 'sent_score': 1.8264357328497915, 'sentence': 'En definitiva, de acuerdo con la hipótesis SSF, la naturaleza del sustrato (circuitos electrónicos o redes neuronales) carece de importancia siempre y cuando dicho sustrato permita procesar símbolos.'}, {'doc_id': 14, 'sent_score': 1.684501564496455, 'sentence': 'En cualquier caso, su validez o refutación se deberá verificar de acuerdo con el método científico, con ensayos experimentales.'}, {'doc_id': 15, 'sent_score': 1.608599270688047, 'sentence': 'La IA es precisamente el campo científico dedicado a intentar verificar esta hipótesis en el contexto de los ordenadores digitales, es decir, verificar si un ordenador convenientemente programado es capaz o no de tener conducta inteligente de tipo general.'}, {'doc_id': 16, 'sent_score': 2.4329441077145058, 'sentence': 'Exhibir inteligencia específica es otra cosa bien distinta.'}, {'doc_id': 17, 'sent_score': 1.5286303216369264, 'sentence': 'Aunque estrictamente la hipótesis SSF se formuló en 1975, ya estaba implícita en las ideas de los pioneros de la IA en los años cincuenta e incluso en las ideas de Alan Turing en sus escritos pioneros (Turing, 1948, 1950) sobre máquinas inteligentes.'}, {'doc_id': 18, 'sent_score': 1.67440505172065, 'sentence': 'La IA débil, por otro lado, consistiría, según Searle, en construir programas que realicen tareas específicas y, obviamente sin necesidad de tener estados mentales.'}, {'doc_id': 19, 'sent_score': 1.5632757592462239, 'sentence': 'También se asocia con la IA débil el hecho de /// formular y probar hipótesis acerca de aspectos relacionados con la mente (por ejemplo la capacidad de razonar deductivamente, de aprender inductivamente, etcétera) mediante la construcción de programas que llevan a cabo dichas funciones aunque sea mediante procesos completamente distintos a los que lleva a cabo el cerebro.'}, {'doc_id': 20, 'sent_score': 1.6357840407324413, 'sentence': 'LOS PRINCIPALES MODELOS EN IA: SIMBÓLICO, CONEXIONISTA, EVOLUTIVO Y CORPÓREO\\nEl modelo dominante en IA ha sido el simbólico, que tiene sus raíces en la hipótesis SSF.'}, {'doc_id': 21, 'sent_score': 1.8306877529323382, 'sentence': 'De hecho, sigue siendo muy importante y actualmente se considera el modelo clásico en IA (también denominado por el acrónimo GOFAI, de Good Old Fashioned AI).'}, {'doc_id': 22, 'sent_score': 1.7494348549057392, 'sentence': 'Es decir, la IA simbólica opera con representaciones abstractas del mundo real que se modelan mediante lenguajes de representación basados principalmente en la lógica matemática y sus extensiones.'}, {'doc_id': 23, 'sent_score': 1.697285828895128, 'sentence': 'Por este motivo, los primeros sistemas inteligentes resolvían principalmente problemas que no requieren interactuar directamente con el entorno como, por ejemplo, demostrar sencillos teoremas matemáticos o jugar al ajedrez —los programas que juegan al ajedrez no necesitan de hecho la percepción visual para ver las piezas en el tablero ni actuadores para mover las piezas—.'}]\n"
     ]
    }
   ],
   "source": [
    "text2 = summary\n",
    "text_sents2 = sent_tokenize(text2)\n",
    "text_sents_clean2 = [remove_string_special_characters(s) for s in text_sents2] #if s.istitle() == False]\n",
    "doc_info2 = get_doc(text_sents_clean2)\n",
    "freqDict_list2 = create_freq_dict(text_sents_clean2)\n",
    "TF_scores2 = computeTF(doc_info2, freqDict_list2)\n",
    "IDF_scores2 = computeIDF(doc_info2, freqDict_list2)\n",
    "TFIDF_scores2 = computeTFIDF(TF_scores2, IDF_scores2)\n",
    "TFIDF_scores2 = weigh_keywords(TFIDF_scores2)\n",
    "sentence_info2 = get_sent_score(TFIDF_scores2, text_sents2, doc_info2)\n",
    "summary2 = get_summary(sentence_info2)"
   ]
  },
  {
   "cell_type": "code",
   "execution_count": 667,
   "metadata": {},
   "outputs": [
    {
     "name": "stdout",
     "output_type": "stream",
     "text": [
      "El futuro de la IA: hacia inteligencias artificiales realmente inteligentes\n",
      "Ramón López de Mántaras\n",
      "Instituto de Investigación en Inteligencia Artificial (IIIA), Bellaterra, España\n",
      "Este capítulo contiene algunas reflexiones sobre inteligencia artificial (IA).\n",
      "Por ejemplo, en el siglo XVII, Descartes se preguntó si un complejo sistema mecánico compuesto de engranajes, poleas y tubos podría, en principio, emular el pensamiento.\n",
      "Un SSF consiste en un conjunto de entidades denominadas símbolos que, mediante relaciones, pueden ser combinados formando estructuras más grandes —como los átomos que se combinan formando moléculas— y que pueden ser transformados aplicando un conjunto de procesos.\n",
      "Estos procesos pueden generar nuevos símbolos, crear y modificar relaciones entre símbolos, almacenar símbolos, comparar si dos símbolos son iguales o distintos, etcétera.\n",
      "En definitiva, de acuerdo con la hipótesis SSF, la naturaleza del sustrato (circuitos electrónicos o redes neuronales) carece de importancia siempre y cuando dicho sustrato permita procesar símbolos.\n",
      "Exhibir inteligencia específica es otra cosa bien distinta.\n",
      "De hecho, sigue siendo muy importante y actualmente se considera el modelo clásico en IA (también denominado por el acrónimo GOFAI, de Good Old Fashioned AI).\n",
      "1285\n"
     ]
    }
   ],
   "source": [
    "print(summary2)\n",
    "print(len(summary2))"
   ]
  },
  {
   "cell_type": "code",
   "execution_count": 668,
   "metadata": {},
   "outputs": [
    {
     "name": "stdout",
     "output_type": "stream",
     "text": [
      "LA HIPÓTESIS DEL SISTEMA DE SÍMBOLOS FÍSICOS: IA DÉBIL VERSUS IA FUERTE\n",
      "En una ponencia, con motivo de la recepción del prestigioso Premio Turing en 1975, Allen Newell y Herbert Simon (Newell y Simon, 1975) formularon la hipótesis del Sistema de Símbolos Físicos según la cual «todo sistema de símbolos físicos posee los medios necesarios y suficientes para llevar a cabo acciones inteligentes». En primer lugar, se explica la distinción entre la IA fuerte y la débil, así como los conceptos relacionados de IA general y específica, dejando claro que todas las manifestaciones existentes de IA son débiles y específicas. El diseño y realización de inteligencias artificiales que únicamente muestran comportamiento inteligente en un ámbito muy específico, está relacionado con lo que se conoce por IA débil en contraposición con la IA fuerte a la que, de hecho, se referían Newell y Simon y otros padres fundadores de la IA. Ello no significa que la IA simbólica no pueda ser usada para, por ejemplo, programar el módulo de razonamiento de un robot físico situado en un entorno real, pero en los primeros años los pioneros de la IA no disponían de lenguajes de representación del conocimiento ni de programación que permitieran hacerlo de forma eficiente y por este motivo los primeros sistemas inteligentes se limitaron a resolver problemas que no requerían interacción directa con el mundo real. Existe obviamente una conexión pero solamente en un sentido, es decir que toda IA fuerte será necesariamente general pero puede haber IA generales, es decir multitarea, que no sean fuertes, que emulen la capacidad de exhibir inteligencia general similar a la humana pero sin experimentar estados mentales. Por su dificultad, es comparable a explicar el origen de la vida, el origen del universo o conocer la estructura de la materia\n",
      "\n",
      "Quien introdujo esta distinción entre IA débil y fuerte fue el filósofo John Searle en un artículo crítico con la IA publicado en 1980 (Searle, 1980) que provocó, y sigue provocando, mucha polémica. El futuro de la IA: hacia inteligencias artificiales realmente inteligentes\n",
      "Ramón López de Mántaras\n",
      "Instituto de Investigación en Inteligencia Artificial (IIIA), Bellaterra, España\n",
      "Este capítulo contiene algunas reflexiones sobre inteligencia artificial (IA). También se asocia con la IA débil el hecho de /// formular y probar hipótesis acerca de aspectos relacionados con la mente (por ejemplo la capacidad de razonar deductivamente, de aprender inductivamente, etcétera) mediante la construcción de programas que llevan a cabo dichas funciones aunque sea mediante procesos completamente distintos a los que lleva a cabo el cerebro. LOS PRINCIPALES MODELOS EN IA: SIMBÓLICO, CONEXIONISTA, EVOLUTIVO Y CORPÓREO\n",
      "El modelo dominante en IA ha sido el simbólico, que tiene sus raíces en la hipótesis SSF. La IA es precisamente el campo científico dedicado a intentar verificar esta hipótesis en el contexto de los ordenadores digitales, es decir, verificar si un ordenador convenientemente programado es capaz o no de tener conducta inteligente de tipo general.\n",
      "3088\n"
     ]
    }
   ],
   "source": [
    "from nltk.tokenize import sent_tokenize, word_tokenize\n",
    "from nltk.corpus import stopwords\n",
    "from nltk.probability import FreqDist\n",
    "\n",
    "def summarize_text(text, num_sentences=10):\n",
    "    sentences = sent_tokenize(text)\n",
    "    words = word_tokenize(text)\n",
    "    words = [word.lower() for word in words if word.isalnum() and word.lower() not in stopwords.words('spanish')]\n",
    "\n",
    "    freq_dist = FreqDist(words)\n",
    "    key_sentences = sorted(sentences, key=lambda sentence: sum(freq_dist[word] for word in word_tokenize(sentence.lower()) if word.isalnum()), reverse=True)[:num_sentences]\n",
    "\n",
    "    return ' '.join(key_sentences)\n",
    "\n",
    "# Ejemplo de uso:\n",
    "texto = get_text_from_file('texto.txt')\n",
    "resumen = summarize_text(texto)\n",
    "print(resumen)\n",
    "print(len(resumen))"
   ]
  }
 ],
 "metadata": {
  "kernelspec": {
   "display_name": "Python 3",
   "language": "python",
   "name": "python3"
  },
  "language_info": {
   "codemirror_mode": {
    "name": "ipython",
    "version": 3
   },
   "file_extension": ".py",
   "mimetype": "text/x-python",
   "name": "python",
   "nbconvert_exporter": "python",
   "pygments_lexer": "ipython3",
   "version": "3.11.3"
  }
 },
 "nbformat": 4,
 "nbformat_minor": 2
}
