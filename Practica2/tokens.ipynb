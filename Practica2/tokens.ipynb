{
 "cells": [
  {
   "cell_type": "code",
   "execution_count": 10,
   "metadata": {},
   "outputs": [
    {
     "name": "stderr",
     "output_type": "stream",
     "text": [
      "[nltk_data] Downloading package stopwords to\n",
      "[nltk_data]     C:\\Users\\nanga\\AppData\\Roaming\\nltk_data...\n",
      "[nltk_data]   Unzipping corpora\\stopwords.zip.\n"
     ]
    },
    {
     "data": {
      "text/plain": [
       "True"
      ]
     },
     "execution_count": 10,
     "metadata": {},
     "output_type": "execute_result"
    }
   ],
   "source": [
    "import nltk\n",
    "nltk.download('stopwords')"
   ]
  },
  {
   "cell_type": "code",
   "execution_count": 12,
   "metadata": {},
   "outputs": [
    {
     "name": "stdout",
     "output_type": "stream",
     "text": [
      "ejemplo texto signos puntuación stopwords palabras\n"
     ]
    }
   ],
   "source": [
    "import string\n",
    "from nltk.corpus import stopwords\n",
    "\n",
    "def eliminar_puntuacion_y_stopwords(texto):\n",
    "    # Eliminar signos de puntuación\n",
    "    texto_sin_puntuacion = \"\".join([caracter for caracter in texto if caracter not in string.punctuation])\n",
    "\n",
    "    # Tokenizar el texto\n",
    "    tokens = texto_sin_puntuacion.split()\n",
    "\n",
    "    # Eliminar stopwords\n",
    "    stopwords_spanish = set(stopwords.words('spanish'))\n",
    "    tokens_sin_stopwords = [palabra for palabra in tokens if palabra.lower() not in stopwords_spanish]\n",
    "\n",
    "    # Unir las palabras nuevamente en una cadena de texto\n",
    "    texto_procesado = \" \".join(tokens_sin_stopwords)\n",
    "\n",
    "    return texto_procesado\n",
    "\n",
    "# Ejemplo de uso:\n",
    "texto1 = \"Este es un ejemplo de texto con signos de puntuación, stopwords y otras palabras.\"\n",
    "texto = eliminar_puntuacion_y_stopwords(texto1)\n",
    "print(texto)"
   ]
  },
  {
   "cell_type": "code",
   "execution_count": 13,
   "metadata": {},
   "outputs": [
    {
     "name": "stdout",
     "output_type": "stream",
     "text": [
      "['ejemplo', 'texto', 'signos', 'puntuación', 'stopwords', 'palabras']\n"
     ]
    }
   ],
   "source": [
    "def tokenizador(texto):\n",
    "    caracteres = [',', '.', '!','¡','?', ';', ':', '-', '(', ')', '\"', \"'\", '[', ']', '{', '}', '/', '\\\\', '<', '>', '|', '`', '~', '@', '#', '$', '%', '^', '&', '*', '_', '+', '=', '“', '”']\n",
    "    tokens = []\n",
    "\n",
    "    token_actual = ''\n",
    "    for caracter in texto:\n",
    "        if caracter == ' ' or caracter in caracteres:\n",
    "            if token_actual:\n",
    "                tokens.append(token_actual)\n",
    "                token_actual = ''\n",
    "        else:\n",
    "            token_actual += caracter\n",
    "\n",
    "    if token_actual:\n",
    "        tokens.append(token_actual)\n",
    "\n",
    "    return tokens\n",
    "\n",
    "\n",
    "tokens = tokenizador(texto)\n",
    "print(tokens)"
   ]
  }
 ],
 "metadata": {
  "kernelspec": {
   "display_name": "Python 3",
   "language": "python",
   "name": "python3"
  },
  "language_info": {
   "codemirror_mode": {
    "name": "ipython",
    "version": 3
   },
   "file_extension": ".py",
   "mimetype": "text/x-python",
   "name": "python",
   "nbconvert_exporter": "python",
   "pygments_lexer": "ipython3",
   "version": "3.11.2"
  }
 },
 "nbformat": 4,
 "nbformat_minor": 2
}
