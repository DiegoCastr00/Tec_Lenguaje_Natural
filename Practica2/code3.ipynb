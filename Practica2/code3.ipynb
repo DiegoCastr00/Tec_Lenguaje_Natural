{
 "cells": [
  {
   "cell_type": "code",
   "execution_count": null,
   "metadata": {},
   "outputs": [],
   "source": [
    "import math\n",
    "import re \n",
    "from nltk import sent_tokenize, word_tokenize\n",
    "from nltk.corpus import stopwords"
   ]
  },
  {
   "cell_type": "code",
   "execution_count": null,
   "metadata": {},
   "outputs": [],
   "source": [
    "def limpiartxt(s):\n",
    "    sentence = re.sub('[^a-zA-Z\\s]', '', sentence)\n",
    "    sentence = re.sub('_', '', sentence)\n",
    "    sentence = re.sub('\\s+', ' ', sentence)\n",
    "    sentence = sentence.strip()\n",
    "    return sentence"
   ]
  },
  {
   "cell_type": "code",
   "execution_count": null,
   "metadata": {},
   "outputs": [],
   "source": [
    "def get_doc(sent):\n",
    "    i = 0\n",
    "    for sent in text_sents_clean:\n",
    "        i = i+1;\n",
    "        count = count_words(sent)\n",
    "        temp = {'doc_id' : i, 'doc_length': count}\n",
    "        doc_info.append(temp)\n",
    "    return doc_into"
   ]
  },
  {
   "cell_type": "code",
   "execution_count": null,
   "metadata": {},
   "outputs": [],
   "source": [
    "def cnt_words(sent):\n",
    "    cnt = 0\n",
    "    words = word_tokenize(sent)\n",
    "    for word in words:\n",
    "        cnt = cnt +1\n",
    "    return cnt"
   ]
  },
  {
   "cell_type": "code",
   "execution_count": null,
   "metadata": {},
   "outputs": [],
   "source": [
    "def freq_dict(sentences):\n",
    "    i=0\n",
    "    freq_list = []\n",
    "    for sent in sentences:\n",
    "        i = i + 1\n",
    "        freq_dict = {} \n",
    "        words = word_tokenize(sent, language='spanish')\n",
    "        for word in words:\n",
    "            word = word.lower()\n",
    "            if word in freq_dict:\n",
    "                freq_dict[word] += 1\n",
    "            else:\n",
    "                freq_dict[word] = 1\n",
    "            temp = {'doc_id' : i, 'freq_dict' : freq_dict}\n",
    "        freq_list.append(temp)\n",
    "    return freq_list"
   ]
  },
  {
   "cell_type": "code",
   "execution_count": null,
   "metadata": {},
   "outputs": [],
   "source": []
  }
 ],
 "metadata": {
  "language_info": {
   "name": "python"
  }
 },
 "nbformat": 4,
 "nbformat_minor": 2
}
