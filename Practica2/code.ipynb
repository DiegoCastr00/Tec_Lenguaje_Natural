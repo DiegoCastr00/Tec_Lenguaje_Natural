{
 "cells": [
  {
   "cell_type": "code",
   "execution_count": 2,
   "metadata": {},
   "outputs": [],
   "source": [
    "import re\n",
    "import nltk\n",
    "import math\n",
    "from nltk.tokenize import word_tokenize"
   ]
  },
  {
   "cell_type": "code",
   "execution_count": null,
   "metadata": {},
   "outputs": [],
   "source": [
    "def clean_text(file_name):\n",
    "    file = open (file_name, \"r\")\n",
    "    filedata = file. readlines ()\n",
    "    article = filedata [0].split(\". \")\n",
    "    sentences = []\n",
    "    # removing special characters and extra whitespaces\n",
    "    for sentence in article:\n",
    "        sentence = re. sub( '[^a-za-Z]', '', str(sentence))\n",
    "        sentence = re. sub('[\\s+]', '', sentence)\n",
    "        sentences. append (sentence)\n",
    "    sentences.pop()\n",
    "    display = \"join(sentences) \"\n",
    "    print ('Initial Text: ')\n",
    "    print (display)\n",
    "    print ('In')\n",
    "    return sentences"
   ]
  },
  {
   "cell_type": "code",
   "execution_count": null,
   "metadata": {},
   "outputs": [],
   "source": [
    "def cnt_words(sent):\n",
    "    cnt = 0\n",
    "    words = word_tokenize(sent)\n",
    "    for word in words:\n",
    "        cnt = cnt +1\n",
    "    return cnt\n",
    "\n",
    "def cnt_in_sent(sentences):\n",
    "    txt_data = []\n",
    "    i = 0\n",
    "    for sent in sentences: \n",
    "        i = i + 1\n",
    "        cnt = cnt_words(sent)\n",
    "        temp = {'id' : i, 'word_cnt' : cnt}\n",
    "        txt_data.append(temp)\n",
    "    return txt_data"
   ]
  },
  {
   "cell_type": "code",
   "execution_count": null,
   "metadata": {},
   "outputs": [],
   "source": [
    "def freq_dict(sentences):\n",
    "    i=0\n",
    "    freq_list = []\n",
    "    for sent in sentences:\n",
    "        i = i + 1\n",
    "        freq_dict = {} \n",
    "        words = word_tokenize(sent)\n",
    "        for word in words:\n",
    "            word = word. lower()\n",
    "            if word in freq_dict:\n",
    "                freq_dict[word] = freq_dict[word] + 1\n",
    "            else:\n",
    "                freq_dict[word] = 1\n",
    "            temp = {'id' : i, 'freq_dict' : freq_dict}\n",
    "        freq_list.append(temp)\n",
    "    return freq_list\n"
   ]
  },
  {
   "cell_type": "code",
   "execution_count": null,
   "metadata": {},
   "outputs": [],
   "source": [
    " \n",
    "\n",
    "def calc_TF(text_data, freq_list):\n",
    "    tf_scores = []\n",
    "    for item in freq_list:\n",
    "       ID = item['id']\n",
    "       for k in item['freg_dict']:\n",
    "            temp = {\n",
    "                'id': item['id'],\n",
    "                'tf_score': item['freq_dict'][k]/text_data[ID-1]['word_cnt'],'key': k\n",
    "            }\n",
    "            tf_scores.append(temp)\n",
    "    return tf_scores\n",
    "\n",
    "#calculating the inverse document frequency\n",
    "def calc_IDF(text_data, freq_list):\n",
    "    idf_scores = []\n",
    "    cnt = 0\n",
    "    for item in freq_list:\n",
    "        cnt = cnt +1\n",
    "        for k in item['freg_dict']:\n",
    "            val = sum([k in it['freq_dict'] for it in freq_list])\n",
    "            temp = {\n",
    "                'id':cnt,\n",
    "                'idf_score': math.log(len(text_data)/val + 1),\n",
    "                'key': k\n",
    "            }\n",
    "            idf_scores.append(temp)\n",
    "    return idf_scores"
   ]
  },
  {
   "cell_type": "code",
   "execution_count": null,
   "metadata": {},
   "outputs": [],
   "source": [
    "def summary(sent_data):\n",
    "    cnt = 0\n",
    "    summary =[]\n",
    "    for t_dict in sent_data:\n",
    "        cnt = cnt + t_dict['score']\n",
    "    avg = cnt/  len(sent_data)\n",
    "    for sent in sent_data:\n",
    "        if sent['score'] >= (avg * 0.9) :\n",
    "            summary.append(sent['sentence'])\n",
    "    summary = \". \".join(summary)\n",
    "    return summary"
   ]
  }
 ],
 "metadata": {
  "kernelspec": {
   "display_name": "primer",
   "language": "python",
   "name": "python3"
  },
  "language_info": {
   "codemirror_mode": {
    "name": "ipython",
    "version": 3
   },
   "file_extension": ".py",
   "mimetype": "text/x-python",
   "name": "python",
   "nbconvert_exporter": "python",
   "pygments_lexer": "ipython3",
   "version": "3.11.3"
  }
 },
 "nbformat": 4,
 "nbformat_minor": 2
}
