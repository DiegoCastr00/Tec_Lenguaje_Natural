{
 "cells": [
  {
   "cell_type": "code",
   "execution_count": 2,
   "metadata": {},
   "outputs": [],
   "source": [
    "import re\n",
    "import nltk\n",
    "import math\n",
    "from nltk.tokenize import word_tokenize"
   ]
  },
  {
   "cell_type": "code",
   "execution_count": null,
   "metadata": {},
   "outputs": [],
   "source": [
    "def clean_text(file_name):\n",
    "    file = open (file_name, \"r\")\n",
    "    filedata = file. readlines ()\n",
    "    article = filedata [0].split(\". \")\n",
    "    sentences = []\n",
    "    # removing special characters and extra whitespaces\n",
    "    for sentence in article:\n",
    "        sentence = re. sub( '[^a-za-Z]', '', str(sentence))\n",
    "        sentence = re. sub('[\\s+]', '', sentence)\n",
    "        sentences. append (sentence)\n",
    "    sentences.pop()\n",
    "    display = \"join(sentences) \"\n",
    "    print ('Initial Text: ')\n",
    "    print (display)\n",
    "    print ('In')\n",
    "    return sentences"
   ]
  },
  {
   "cell_type": "code",
   "execution_count": null,
   "metadata": {},
   "outputs": [],
   "source": [
    "def cnt_words(sent):\n",
    "    cnt = 0\n",
    "    words = word_tokenize(sent)\n",
    "    for word in words:\n",
    "        cnt = cnt +1\n",
    "    return cnt\n",
    "\n",
    "def cnt_in_sent(sentences):\n",
    "    txt_data = []\n",
    "    i = 0\n",
    "    for sent in sentences: \n",
    "        i = i + 1\n",
    "        cnt = cnt_words(sent)\n",
    "        temp = {'id' : i, 'word_cnt' : cnt}\n",
    "        txt_data.append(temp)\n",
    "    return txt_data"
   ]
  },
  {
   "cell_type": "code",
   "execution_count": null,
   "metadata": {},
   "outputs": [],
   "source": [
    "def freq_dict(sentences):\n",
    "    i=0\n",
    "    freq_list = []\n",
    "    for sent in sentences:\n",
    "        i = i + 1\n",
    "        freq_dict = {} \n",
    "        words = word_tokenize(sent)\n",
    "        for word in words:\n",
    "            word = word. lower()\n",
    "            if word in freq_dict:\n",
    "                freq_dict[word] = freq_dict[word] + 1\n",
    "            else:\n",
    "                freq_dict[word] = 1\n",
    "            temp = {'id' : i, 'freq_dict' : freq_dict}\n",
    "        freq_list.append(temp)\n",
    "    return freq_list\n"
   ]
  },
  {
   "cell_type": "code",
   "execution_count": null,
   "metadata": {},
   "outputs": [],
   "source": [
    " \n",
    "\n",
    "def calc_TF(text_data, freq_list):\n",
    "    tf_scores = []\n",
    "    for item in freq_list:\n",
    "        D = item['id']\n",
    "        for k in item['freg_dict']:\n",
    "            temp =\n",
    "\n",
    " \n",
    "\n",
    "id': item['id'],\n",
    "\n",
    "a mele ee a dam eee LAP Ad em he OOM la: mar ae\n",
    "\n",
    "'key': k\n",
    "\n",
    "tf_scores.append(temp)\n",
    "return tf_scores\n",
    "\n",
    "#calculating the inverse document frequency\n",
    "def calc_IDF(text_data, freq_list):\n",
    "Bib mta Teed\n",
    "cnt = 0\n",
    "for item in freq_list:\n",
    "cnt = cnt +1\n",
    "for k in item['freg_dict']:\n",
    "val = sum([k in it['freq_dict'] for it in fregq_list])\n",
    "ceo) meee d\n",
    "\n",
    " \n",
    "\n",
    " \n",
    "\n",
    "‘id’: cnt,\n",
    "Pt ae Te el a eee Loe ee\n",
    "a\n",
    "Rte i melee) tur aed)\n",
    "return idf_scores\n"
   ]
  }
 ],
 "metadata": {
  "kernelspec": {
   "display_name": "primer",
   "language": "python",
   "name": "python3"
  },
  "language_info": {
   "codemirror_mode": {
    "name": "ipython",
    "version": 3
   },
   "file_extension": ".py",
   "mimetype": "text/x-python",
   "name": "python",
   "nbconvert_exporter": "python",
   "pygments_lexer": "ipython3",
   "version": "3.11.3"
  }
 },
 "nbformat": 4,
 "nbformat_minor": 2
}
